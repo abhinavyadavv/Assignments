{
 "cells": [
  {
   "cell_type": "markdown",
   "id": "23486baa-b5dc-4b7b-90e4-366eb0eb742d",
   "metadata": {},
   "source": [
    "**1. In the below elements which of them are values or an expression? eg:- values can be integer or string and expressions will be mathematical operators.\n",
    "*\n",
    "'hello'\n",
    "-87.8\n",
    "-\n",
    "/\n",
    "+\n",
    "6**\n",
    "\n",
    "Answer: *, -, /, + are the expressions and 'hello', -87.8 and 6 are the values"
   ]
  },
  {
   "cell_type": "markdown",
   "id": "c44de370-1881-4e52-bbe7-debcecdc887e",
   "metadata": {},
   "source": [
    "**2. What is the difference between string and variable?**\n",
    "\n",
    "\n",
    "*A string is a type of data used to represent text, such as words, sentences, or individual characters. Strings are enclosed in quotation marks, like 'Hello, world!' or 'Python'. They are used to work with textual information in code, allowing manipulation and processing of text-based data.*\n",
    "\n",
    "*On the other hand, a variable is a named storage container that holds various types of data, including strings. Variables provide a way to give a meaningful name to a value, making it easier to reference and manipulate that value in the program. Variable names can start with a letter (a-z, A-Z) or an underscore (_), but not with a digit (0-9).*\n",
    "*Example: name=\"Abhinav Yadav\"\n",
    "Here \"name\" is a variable that stores the character data \"Abhinav Yadav\" that is a string.*"
   ]
  },
  {
   "cell_type": "markdown",
   "id": "9c0b9be5-09ff-489a-a87d-d7ffad32ddf1",
   "metadata": {},
   "source": [
    "**3. Describe three different data types.**\n",
    "\n",
    "*Answer: Three different types of data types are: int, float and bool.*\n",
    "\n",
    "*int stands for the integer data. Example: 3, 5, -2*\n",
    "\n",
    "*float stands for floating point data. Example: 9.4, 2.3, 0.123*\n",
    "\n",
    "*Boolean: Represents True or False values, used for logical operations and branching. Example:is_raining = True*\n"
   ]
  },
  {
   "cell_type": "markdown",
   "id": "baf1438e-dd75-4208-8d44-ae9d7537d4b4",
   "metadata": {},
   "source": [
    "**4. What is an expression made up of? What do all expressions do?**\n",
    "\n",
    "*Answer: - An expression is a combination of values, variables, and operators that can be evaluated to produce a value. Expressions perform computations. They can be simple or complex, but their primary purpose is to compute a value*\n",
    "\n",
    "*All expressions, when evaluated, produce a result. For example, 3 + 4 is an expression that evaluates to 7*\n"
   ]
  },
  {
   "cell_type": "markdown",
   "id": "f27bd72a-dd6c-4c4f-8f61-4394217d2862",
   "metadata": {},
   "source": [
    "**5. This assignment statements, like spam = 10. What is the difference between an expression and a statement?**\n",
    "\n",
    "*Answer: Assignment statement like spam=10 assigns the value 10 to the variable name \"spam\". In future if we want to use this value, we can simply write spam. \n",
    "An expression is the mathematical operators that performs some specific calculations.*\n",
    "\n",
    "*Example: 2+4-29/2 will perform the expression according to the order of the precedence of the mathematical operators.*"
   ]
  },
  {
   "cell_type": "markdown",
   "id": "36d238b9-96b2-48d6-bae8-bf22663e8653",
   "metadata": {},
   "source": [
    "**6. After running the following code, what does the variable bacon contain?\n",
    "bacon = 22\n",
    "bacon + 1**\n",
    "\n",
    "*Answer: After running the code, the variable bacon will still contain the value 22. The expression bacon + 1 calculates the result 23, but it doesn't change the value of bacon unless you assign the result back to the variable.*"
   ]
  },
  {
   "cell_type": "markdown",
   "id": "b1c34036-0c13-446d-ad32-04ebfe97bbc5",
   "metadata": {},
   "source": [
    "**7. What should the values of the following two terms be?**\n",
    "\n",
    "*'spam'+'spamspam'\n",
    "'spam'* *3* \n",
    "\n",
    "\n",
    "*Answer: 'The values of the two terms will be:*\n",
    "   - 'spam' + 'spamspam' results in 'spamspamspam'.\n",
    "   - 'spam'* 3 results in 'spamspamspam'.\n"
   ]
  },
  {
   "cell_type": "markdown",
   "id": "cb50879c-d38e-4811-aa14-f82209b143f1",
   "metadata": {},
   "source": []
  }
 ],
 "metadata": {
  "kernelspec": {
   "display_name": "Python 3 (ipykernel)",
   "language": "python",
   "name": "python3"
  },
  "language_info": {
   "codemirror_mode": {
    "name": "ipython",
    "version": 3
   },
   "file_extension": ".py",
   "mimetype": "text/x-python",
   "name": "python",
   "nbconvert_exporter": "python",
   "pygments_lexer": "ipython3",
   "version": "3.10.9"
  }
 },
 "nbformat": 4,
 "nbformat_minor": 5
}
