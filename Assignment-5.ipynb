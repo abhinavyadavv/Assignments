{
 "cells": [
  {
   "cell_type": "markdown",
   "id": "2b357e4f",
   "metadata": {},
   "source": [
    "**1.What does an empty dictionary's code look like?**\n",
    "\n",
    "*Answer: An empty dictionary in python is an empty pair of curly braces which looks like { }. This is called an empty dictionary with no key:value pairs.*\n",
    "\n",
    "*A dictionary is a built-in data type used to store collections of data in the form of key-value pairs.*\n",
    "\n",
    "*Dictionary keys can be of various data types, including strings, numbers, and tuples. However, keys must be hashable, which means they must be immutable and unique.*\n",
    "\n",
    "*Dictionaries are mutable, which means you can add, modify, or remove key-value pairs after the dictionary is created.*"
   ]
  },
  {
   "cell_type": "code",
   "execution_count": 1,
   "id": "f6c242a8",
   "metadata": {},
   "outputs": [
    {
     "name": "stdout",
     "output_type": "stream",
     "text": [
      "{'name': 'Abhinav Yadav', 'age': 23, 'designation': 'student'}\n",
      "{}\n"
     ]
    }
   ],
   "source": [
    "#Example of a dictionary\n",
    "my_dict={\"name\":\"Abhinav Yadav\",\"age\":23,\"designation\":\"student\"}\n",
    "print(my_dict)\n",
    "\n",
    "#Empty dictionary\n",
    "dict1={}\n",
    "print(dict1)"
   ]
  },
  {
   "cell_type": "markdown",
   "id": "11e4ec5e",
   "metadata": {},
   "source": [
    "**2.What is the value of a dictionary value with the key 'foo' and the value 42?**\n",
    "\n",
    "*Answer:The dictionary with the key 'foo' and the value 42 looks like:*\n",
    "\n",
    "`dict={\"foo\":42}`\n",
    "\n",
    "*Here, \"foo\" is the key and 42 is its value.*\n",
    "\n",
    "*The value of a dictionary with the key 'foo' and the value 42 can be accessed using the key 'foo'.* \n",
    "\n",
    "*In this example, we create a dictionary called `my_dict` with the key 'foo' and the value 42. We then access the value associated with the key 'foo' using `my_dict['foo']`, which returns the value 42.*"
   ]
  },
  {
   "cell_type": "code",
   "execution_count": 2,
   "id": "fe141717",
   "metadata": {},
   "outputs": [
    {
     "name": "stdout",
     "output_type": "stream",
     "text": [
      "42\n"
     ]
    }
   ],
   "source": [
    "# Creating a dictionary with the key 'foo' and the value 42\n",
    "my_dict = {'foo': 42}\n",
    "\n",
    "# Accessing the value using the key 'foo'\n",
    "value = my_dict['foo']\n",
    "\n",
    "print(value)  # Output: 42"
   ]
  },
  {
   "cell_type": "markdown",
   "id": "0947e959",
   "metadata": {},
   "source": [
    "**3.What is the most significant distinction between a dictionary and a list?**\n",
    "\n",
    "*Answer: The most significant distinction between a dictionary and a list in Python is how they store and access data.*\n",
    "\n",
    "*`Dictionary`Stores data in the form of key-value pairs.*\n",
    "\n",
    "*Each value in a dictionary is associated with a unique key, and we access the values by specifying their keys.*\n",
    "\n",
    "Dictionaries are like special containers that help us quickly find things we're looking for.Each thing has a special name (a key), and we can use that name to instantly get the thing (the value) without searching through a long list.*\n",
    "\n",
    "\n",
    "*`List`Stores data as an ordered sequence of elements.*\n",
    "\n",
    "*Each element in a list has a position (index), and we access elements by their index in the list.*\n",
    "\n",
    "*Lists maintain the order of elements, making them suitable for scenarios where element order matters.*\n",
    "\n",
    "**For Example:**"
   ]
  },
  {
   "cell_type": "code",
   "execution_count": 3,
   "id": "4f5b4abf",
   "metadata": {},
   "outputs": [],
   "source": [
    "# Dictionary\n",
    "my_dict = {\n",
    "    \"name\": \"John\",\n",
    "    \"age\": 30,\n",
    "    \"city\": \"New York\"\n",
    "}\n",
    "\n",
    "# Accessing values by keys\n",
    "name = my_dict[\"name\"]  # Accessing the value associated with the key \"name\"\n",
    "\n",
    "# List\n",
    "my_list = [\"apple\", \"banana\", \"cherry\"]\n",
    "\n",
    "# Accessing elements by index\n",
    "fruit = my_list[0]  # Accessing the first element \"apple\"\n"
   ]
  },
  {
   "cell_type": "markdown",
   "id": "d4b37706",
   "metadata": {},
   "source": [
    "**4. What happens if you try to access spam['foo'] if spam is {'bar': 100}?**\n",
    "\n",
    "*Answer: If you try to access spam['foo'] and spam is defined as {'bar': 100}, you will encounter a KeyError in Python. This error occurs because the key 'foo' does not exist in the dictionary spam,and attempting to access a non-existent key using square brackets results in a KeyError.*\n",
    "\n",
    "*To avoid this error, we should ensure that we access dictionary keys that actually exist in the dictionary. We can use the in operator or check if the key exists using the get() method or a conditional statement before attempting to access it.*\n",
    "\n",
    "*We can avoid such type of situations by using Exceptions.Exceptions are used to handle errors.KeyError can be handled by using exception.*"
   ]
  },
  {
   "cell_type": "code",
   "execution_count": 3,
   "id": "c92b6be5",
   "metadata": {},
   "outputs": [
    {
     "ename": "KeyError",
     "evalue": "'foo'",
     "output_type": "error",
     "traceback": [
      "\u001b[1;31m---------------------------------------------------------------------------\u001b[0m",
      "\u001b[1;31mKeyError\u001b[0m                                  Traceback (most recent call last)",
      "Cell \u001b[1;32mIn[3], line 2\u001b[0m\n\u001b[0;32m      1\u001b[0m spam\u001b[38;5;241m=\u001b[39m{\u001b[38;5;124m'\u001b[39m\u001b[38;5;124mbar\u001b[39m\u001b[38;5;124m'\u001b[39m:\u001b[38;5;241m100\u001b[39m}\n\u001b[1;32m----> 2\u001b[0m spam[\u001b[38;5;124m'\u001b[39m\u001b[38;5;124mfoo\u001b[39m\u001b[38;5;124m'\u001b[39m]\n",
      "\u001b[1;31mKeyError\u001b[0m: 'foo'"
     ]
    }
   ],
   "source": [
    "spam={'bar':100}\n",
    "spam['foo']"
   ]
  },
  {
   "cell_type": "code",
   "execution_count": 4,
   "id": "479c69a6",
   "metadata": {},
   "outputs": [
    {
     "name": "stdout",
     "output_type": "stream",
     "text": [
      "The key is not present in the dictionary.\n",
      "Please enter the correct key.\n"
     ]
    }
   ],
   "source": [
    "#Handling the KeyError\n",
    "spam={'bar':100}\n",
    "try:\n",
    "    spam['foo']\n",
    "except KeyError:\n",
    "    print(\"The key is not present in the dictionary.\")\n",
    "finally: \n",
    "    print(\"Please enter the correct key.\")"
   ]
  },
  {
   "cell_type": "markdown",
   "id": "5c880808",
   "metadata": {},
   "source": [
    "**5. If a dictionary is stored in spam, what is the difference between the expressions 'cat' in spam and 'cat' in spam.keys()?**\n",
    "\n",
    "*Answer: In Python, when we use the expressions 'cat' in spam and 'cat' in spam.keys(), we are checking for the existence of a key 'cat' within the dictionary spam.*\n",
    "\n",
    "`'cat' in spam:`*This expression checks if the key 'cat' exists directly within the dictionary spam.*\n",
    "\n",
    "*If 'cat' is a key in the dictionary, it will return `True`.*\n",
    "\n",
    "*If 'cat' is not a key in the dictionary, it will return `False`.*\n",
    "\n",
    "\n",
    "`'cat' in spam.keys():`*This expression first retrieves all the keys from the dictionary spam using the keys() method and then checks if 'cat' exists among those keys.*\n",
    "\n",
    "*If 'cat' is a key in the dictionary, it will return `True`.*\n",
    "\n",
    "*If 'cat' is not a key in the dictionary, it will return `False`.*"
   ]
  },
  {
   "cell_type": "code",
   "execution_count": 13,
   "id": "3074a14c",
   "metadata": {},
   "outputs": [
    {
     "name": "stdout",
     "output_type": "stream",
     "text": [
      "True\n",
      "True\n"
     ]
    }
   ],
   "source": [
    "spam = {'cat': 1, 'dog': 2, 'fish': 3}\n",
    "\n",
    "# Using 'in' to check if a key exists directly within the dictionary\n",
    "result1 = 'cat' in spam  # True\n",
    "\n",
    "# Using 'in' with spam.keys() to check if a key exists\n",
    "result2 = 'cat' in spam.keys()  # True\n",
    "\n",
    "print(result1)\n",
    "print(result2)\n",
    "\n",
    "#Both `result1` and `result2` are `True` because the key 'cat' exists in the dictionary `spam`"
   ]
  },
  {
   "cell_type": "markdown",
   "id": "bdb3b3a6",
   "metadata": {},
   "source": [
    "**6. If a dictionary is stored in spam, what is the difference between the expressions 'cat' in spam and 'cat' in spam.values()?**\n",
    "\n",
    "*Answer:In Python, the expressions 'cat' in spam and 'cat' in spam.values() are used to check for the existence of a value 'cat' within the dictionary spam.*\n",
    "\n",
    "`'cat' in spam:`*This expression checks if the value 'cat' exists as a key in the dictionary spam.*\n",
    "\n",
    "*It does not check the values of the dictionary; instead, it checks for the presence of the key 'cat'.*\n",
    "\n",
    "*If 'cat' is a key in the dictionary, it will return `True`.*\n",
    "\n",
    "*If 'cat' is not a key in the dictionary, it will return `False`.*\n",
    "\n",
    "`cat' in spam.values():`This expression checks if the value 'cat' exists within the values of the dictionary spam.\n",
    "\n",
    "*It iterates through all the values in the dictionary and checks if any of them are equal to 'cat'.*\n",
    "\n",
    "*If 'cat' is found as a value in any key-value pair, it will return `True`.*\n",
    "\n",
    "*If 'cat' is not found as a value in any key-value pair, it will return `False`.*"
   ]
  },
  {
   "cell_type": "code",
   "execution_count": 14,
   "id": "7fcdfe9b",
   "metadata": {},
   "outputs": [
    {
     "name": "stdout",
     "output_type": "stream",
     "text": [
      "False\n",
      "True\n"
     ]
    }
   ],
   "source": [
    "spam = {'name': 'cat', 'species': 'mammal', 'age': \"1 year\"}\n",
    "\n",
    "# Using 'in' to check if 'cat' exists as a key in the dictionary\n",
    "result1 = 'cat' in spam  # False (because 'cat' is not a key)\n",
    "\n",
    "# Using 'in' with spam.values() to check if 'cat' exists as a value\n",
    "result2 = 'cat' in spam.values()  # True (because 'cat' is a value)\n",
    "\n",
    "print(result1)\n",
    "print(result2)\n",
    "\n",
    "#In this example, result1 is `False` because 'cat' is not a key in the dictionary spam. \n",
    "#result2 is `True` because 'cat' is a value within the dictionary's values."
   ]
  },
  {
   "cell_type": "markdown",
   "id": "3d78eae5",
   "metadata": {},
   "source": [
    "**7.What is a shortcut for the following code?**\n",
    "\n",
    "**if 'color' not in spam:**\n",
    "\n",
    "**spam['color'] = 'black'**\n",
    "\n",
    "*Answer: This line of code will check if 'color' exists as a key in the spam dictionary. If it does, it does nothing. If 'color' is not a key in spam, it will set the key 'color' with the value 'black'.*\n",
    "\n",
    "*We can use the `setdefault()` method to achieve the same result more concisely. The `setdefault()` method checks if a key exists in a dictionary, and if it does not exist, it sets a default value for that key.*\n",
    "\n",
    "`Code:`\n",
    "\n",
    "**spam.setdefault('color', 'black')**"
   ]
  },
  {
   "cell_type": "code",
   "execution_count": 1,
   "id": "00996c04",
   "metadata": {},
   "outputs": [
    {
     "name": "stdout",
     "output_type": "stream",
     "text": [
      "{'shape': 'rectangle', 'length': '5cm', 'width': '3cm'}\n",
      "{'shape': 'rectangle', 'length': '5cm', 'width': '3cm', 'color': 'black'}\n"
     ]
    }
   ],
   "source": [
    "spam={'shape':'rectangle','length':'5cm','width':'3cm'}\n",
    "print(spam)\n",
    "spam.setdefault('color', 'black')\n",
    "print(spam)\n",
    "\n",
    "#This code checks if 'color' exists as a key in the `spam` dictionary. If it does, it does nothing. \n",
    "#If 'color' does not exist, it sets the key 'color' with the value 'black'."
   ]
  },
  {
   "cell_type": "markdown",
   "id": "d482cd4f",
   "metadata": {},
   "source": [
    "**8. How do you \"pretty print\" dictionary values using which module and function?**"
   ]
  },
  {
   "cell_type": "markdown",
   "id": "c1b37e4c",
   "metadata": {},
   "source": [
    "*Answer: To \"pretty print\" dictionary values in Python, we can use the `pprint` module (pretty-print module) and its `pprint()` function. The `pprint()` function is part of the `pprint` module, and it allows us to print data structures like dictionaries and lists in a more human-readable and nicely formatted way.*"
   ]
  },
  {
   "cell_type": "code",
   "execution_count": 2,
   "id": "7de8a1a3",
   "metadata": {},
   "outputs": [
    {
     "name": "stdout",
     "output_type": "stream",
     "text": [
      "{'age': 30,\n",
      " 'city': 'New York',\n",
      " 'contact': {'email': 'honey@example.com', 'phone': '123-456-7890'},\n",
      " 'interests': ['programming', 'singing', 'traveling'],\n",
      " 'name': 'Honey Singh'}\n"
     ]
    }
   ],
   "source": [
    "import pprint\n",
    "\n",
    "# Create a sample dictionary\n",
    "data = {\n",
    "    'name': 'Honey Singh',\n",
    "    'age': 30,\n",
    "    'city': 'New York',\n",
    "    'interests': ['programming', 'singing', 'traveling'],\n",
    "    'contact': {\n",
    "        'email': 'honey@example.com',\n",
    "        'phone': '123-456-7890'\n",
    "    }\n",
    "}\n",
    "\n",
    "# Pretty print the dictionary\n",
    "pprint.pprint(data)"
   ]
  },
  {
   "cell_type": "markdown",
   "id": "35a45d78",
   "metadata": {},
   "source": [
    "*When we run this code, the `pprint.pprint(data)` function will format and print the dictionary `data` in a more visually organized and readable manner, making it easier to understand complex nested data structures. The `pprint` module also takes care of line breaks and indentation for nested dictionaries and lists.*"
   ]
  }
 ],
 "metadata": {
  "kernelspec": {
   "display_name": "Python 3 (ipykernel)",
   "language": "python",
   "name": "python3"
  },
  "language_info": {
   "codemirror_mode": {
    "name": "ipython",
    "version": 3
   },
   "file_extension": ".py",
   "mimetype": "text/x-python",
   "name": "python",
   "nbconvert_exporter": "python",
   "pygments_lexer": "ipython3",
   "version": "3.10.9"
  }
 },
 "nbformat": 4,
 "nbformat_minor": 5
}
