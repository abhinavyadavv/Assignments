{
 "cells": [
  {
   "cell_type": "markdown",
   "id": "d210ac18",
   "metadata": {},
   "source": [
    "**1.What is the primary goal of Object-Oriented Programming (OOP)?**\n",
    "\n",
    "*Answer:The primary goal of Object-Oriented Programming (OOP) is to simplify the development and maintenance of large software systems.*\n",
    "\n",
    "*It aims to organize code into reusable and modular structures called classes and objects,using concepts like encapsulation, inheritance, and polymorphism to make it easier to design, understand, and maintain complex software systems.*\n",
    "\n",
    "*The concept focuses on using reusable code.(implements DRY principle)*\n",
    "\n",
    "**2. What is an object in Python?**\n",
    "\n",
    "*Answer:In Python, an object is a fundamental concept representing a real-world entity or data structure. Objects are instances of classes and can store both data (attributes) and functions (methods) that operate on that data.*\n",
    "\n",
    "*Everything in Python, including integers, lists, and custom-defined classes, is an object.*\n",
    "\n",
    "*In the simplest terms we can say that, an object in Python is like a thing that can store data and do stuff with that data.*\n",
    "\n",
    "**For example:** *We can have an object representing a person with attributes like name and age, and methods like say_hello() or celebrate_birthday().*\n",
    "\n",
    "**3.What is a class in Python?**\n",
    "\n",
    "*Answer:A class in Python is a blueprint for creating objects.It defines the structure and behavior of objects. A class can have attributes (variables) to store data and methods (functions) to perform actions related to those attributes.*\n",
    "\n",
    "*Classes are defined using the `class` keyword.*\n",
    "\n",
    "**4.What are attributes and methods in a class?**\n",
    "\n",
    "*Answer:Classes are used to define objects, and they can have two main components: attributes and methods.*\n",
    "\n",
    "**Attributes:** *Attributes are like variables that belong to a class.They represent properties of the objects created from that class.Attributes store data about the object's state.*\n",
    "\n",
    "**For example:** *In a Car class, attributes could include color, make, model, and year.*\n",
    "\n",
    "**Methods:** *Methods are functions that are defined inside a class.They define what actions or behaviors the objects of the class can perform.Methods can manipulate the attributes of the object and perform other tasks.*\n",
    "\n",
    "**For example:** *In a Car class, methods could include start_engine(), accelerate(), and brake().*\n",
    "\n"
   ]
  },
  {
   "cell_type": "code",
   "execution_count": 4,
   "id": "f9921c86",
   "metadata": {},
   "outputs": [],
   "source": [
    "# Define a class called 'Car'\n",
    "class Car:\n",
    "    # Constructor method (__init__) for initializing attributes when creating a car object\n",
    "    def __init__(self, color, make, model, year):\n",
    "        # Attributes (variables) that store data about the car object's characteristics\n",
    "        self.color = color  # Attribute: Color of the car\n",
    "        self.make = make    # Attribute: Make of the car (e.g., Toyota, Ford)\n",
    "        self.model = model  # Attribute: Model of the car (e.g., Camry, Mustang)\n",
    "        self.year = year    # Attribute: Year the car was manufactured\n",
    "        self.is_running = False  # Additional attribute for the engine state (initially set to False)\n",
    "\n",
    "    # Method to start the car's engine\n",
    "    def start_engine(self):\n",
    "        self.is_running = True\n",
    "\n",
    "    # Method to accelerate the car (placeholder comment, actual code not shown)\n",
    "    def accelerate(self):\n",
    "        # Code to make the car go faster (implementation not provided in this example)\n",
    "        pass\n",
    "\n",
    "    # Method to apply the car's brakes (placeholder comment, actual code not shown)\n",
    "    def brake(self):\n",
    "        # Code to make the car stop (implementation not provided in this example)\n",
    "        pass\n"
   ]
  },
  {
   "cell_type": "markdown",
   "id": "efd92277",
   "metadata": {},
   "source": [
    "**5. What is the difference between class variables and instance variables in Python?**\n",
    "\n",
    "*Answer:The difference between `class variables` and `instance variables` in Python lies in their scope and usage:*\n",
    "\n",
    "`Class variables` *These variables are shared among all instances of a class. They are defined at the class level and are the same for every object created from that class. Class variables are useful for storing data that is common to all instances. You define them within the class, outside of any instance methods.*\n",
    "\n",
    "`Instance variables` *These variables are unique to each instance of a class. They are defined within the class's methods, typically within the `__init__` method, using the `self` keyword. Instance variables hold data specific to an individual object.*\n",
    "   \n",
    "**This 'self' keyword can be any other name, but we prefer a standard one.**\n",
    "\n",
    "**For Example:**\n",
    "\n"
   ]
  },
  {
   "cell_type": "code",
   "execution_count": 6,
   "id": "fa56c65f",
   "metadata": {},
   "outputs": [
    {
     "name": "stdout",
     "output_type": "stream",
     "text": [
      "Total Cars: 2\n",
      "Make: Toyota, Model: Camry\n",
      "Make: Ford, Model: Mustang\n"
     ]
    }
   ],
   "source": [
    "class Car:\n",
    "    # Class variable shared by all car instances\n",
    "    total_cars = 0\n",
    "\n",
    "    def __init__(self, make, model):\n",
    "        # Instance variables specific to each car instance\n",
    "        self.make = make\n",
    "        self.model = model\n",
    "        Car.total_cars += 1  # Increment the total number of cars when a new instance is created\n",
    "\n",
    "    def display_info(self):\n",
    "        print(f\"Make: {self.make}, Model: {self.model}\")\n",
    "\n",
    "# Creating car instances\n",
    "car1 = Car(\"Toyota\", \"Camry\")\n",
    "car2 = Car(\"Ford\", \"Mustang\")\n",
    "\n",
    "# Accessing class variable\n",
    "print(f\"Total Cars: {Car.total_cars}\")\n",
    "\n",
    "# Accessing instance variables and calling instance method\n",
    "car1.display_info() \n",
    "car2.display_info()  "
   ]
  },
  {
   "cell_type": "markdown",
   "id": "7fa7e15b",
   "metadata": {},
   "source": [
    "**6.What is the purpose of the self parameter in Python class methods?**\n",
    "\n",
    "\n",
    "*Answer: The `self` parameter in Python class methods refers to the instance of the class itself.Mostly we use self for this parameter,but we're allowed to choose a different name if we want.However,using self is considered good practice.*\n",
    "\n",
    "\n",
    "*When we call a method on an instance of a class, Python automatically passes the instance itself as the first argument to the method. This allows us to access and manipulate the instance's attributes and perform actions that are specific to that instance.*\n",
    "\n",
    "*In other words, `self` is a reference to the object on which the method is called, allowing you to work with the object's data and behavior within the method.*\n",
    "\n",
    "**For Example:**"
   ]
  },
  {
   "cell_type": "code",
   "execution_count": null,
   "id": "3e8aa3ad",
   "metadata": {},
   "outputs": [],
   "source": [
    "class Dog:\n",
    "    def __init__(self, name):\n",
    "        self.name = name\n",
    "\n",
    "    def bark(self):\n",
    "        print(f\"{self.name} says Woof!\")\n",
    "\n",
    "# Creating two dog objects\n",
    "dog1 = Dog(\"Buddy\")\n",
    "dog2 = Dog(\"Max\")\n",
    "\n",
    "# Calling the bark method on each dog\n",
    "dog1.bark()  # Output: Buddy says Woof!\n",
    "dog2.bark()  # Output: Max says Woof!\n",
    "\n",
    "# The self parameter helps methods know which object they're working with and allows them to access that object's attributes \n",
    "# and perform actions specific to that object."
   ]
  },
  {
   "cell_type": "markdown",
   "id": "786efde3",
   "metadata": {},
   "source": [
    "**7. For a library management system, you have to design the \"Book\" class with OOP principles in mind. The “Book” class will have following attributes:**\n",
    "\n",
    "**a. title: Represents the title of the book.**\n",
    "\n",
    "**b. author: Represents the author(s) of the book.**\n",
    "\n",
    "**c. isbn: Represents the ISBN (International Standard Book Number) of the book.**\n",
    "\n",
    "**d. publication_year: Represents the year of publication of the book.**\n",
    "\n",
    "**e. available_copies: Represents the number of copies available for checkout.**\n",
    "\n",
    "\n",
    "**The class will also include the following methods:**\n",
    "\n",
    "**a. check_out(self): Decrements the available copies by one if there are copies available for checkout.**\n",
    "\n",
    "**b. return_book(self): Increments the available copies by one when a book is returned.**\n",
    "\n",
    "**c. display_book_info(self): Displays the information about the book, including its\n",
    "attributes and the number of available copies.**"
   ]
  },
  {
   "cell_type": "code",
   "execution_count": 6,
   "id": "80fc3c8f",
   "metadata": {},
   "outputs": [],
   "source": [
    "# Library management system\n",
    "\n",
    "class Book:\n",
    "    def __init__(self, title, author, isbn, publication_year, available_copies):\n",
    "        # Constructor method to initialize attributes for class Book\n",
    "        self.title = title\n",
    "        self.author = author\n",
    "        self.isbn = isbn\n",
    "        self.publication_year = publication_year\n",
    "        self.available_copies = available_copies\n",
    "\n",
    "    def check_out(self, copy_taken):\n",
    "        # Method to handle book check-out\n",
    "        self.available_copies -= copy_taken\n",
    "        print(f\"Available copies of {self.title} by {self.author}, ISBN number: {self.isbn} published in {self.publication_year} is {self.available_copies}\")\n",
    "\n",
    "    def return_book(self, returned_copy):\n",
    "        # Method to handle book return\n",
    "        self.available_copies += returned_copy\n",
    "        print(f\"Available copies of {self.title} by {self.author}, ISBN number: {self.isbn} published in {self.publication_year} is {self.available_copies}\")\n",
    "\n",
    "    def display_book_info(self):\n",
    "        # Method to display book information\n",
    "        print(f\"Information about the book:\\n Title: {self.title}\\n Author: {self.author}\\n ISBN Number: {self.isbn}\\n Publication year: {self.publication_year}\\n Available copies: {self.available_copies}\")\n"
   ]
  },
  {
   "cell_type": "code",
   "execution_count": 7,
   "id": "de3f6109",
   "metadata": {},
   "outputs": [
    {
     "name": "stdout",
     "output_type": "stream",
     "text": [
      "Information about the book:\n",
      " Title: The God of Small Things\n",
      " Author: Arundhati Roy\n",
      " ISBN Number: 978-0-06-097749-8\n",
      " Publication year: 1997\n",
      " Available copies: 5\n"
     ]
    }
   ],
   "source": [
    "book1=Book(\"The God of Small Things\", \"Arundhati Roy\", \"978-0-06-097749-8\", 1997, 5)\n",
    "book1.display_book_info()"
   ]
  },
  {
   "cell_type": "code",
   "execution_count": 8,
   "id": "8452affa",
   "metadata": {},
   "outputs": [
    {
     "name": "stdout",
     "output_type": "stream",
     "text": [
      "Available copies of The God of Small Things by Arundhati Roy, ISBN number: 978-0-06-097749-8 published in 1997 is 3\n"
     ]
    }
   ],
   "source": [
    "book1.check_out(2)"
   ]
  },
  {
   "cell_type": "code",
   "execution_count": 9,
   "id": "b483840a",
   "metadata": {},
   "outputs": [
    {
     "name": "stdout",
     "output_type": "stream",
     "text": [
      "Available copies of The God of Small Things by Arundhati Roy, ISBN number: 978-0-06-097749-8 published in 1997 is 4\n"
     ]
    }
   ],
   "source": [
    "book1.return_book(1)"
   ]
  },
  {
   "cell_type": "markdown",
   "id": "4f0c46ef",
   "metadata": {},
   "source": [
    "**8.For a ticket booking system, you have to design the \"Ticket\" class with OOP principles in mind. The “Ticket” class should have the following attributes:**\n",
    "\n",
    "**a. ticket_id: Represents the unique identifier for the ticket.**\n",
    "\n",
    "**b. event_name: Represents the name of the event.**\n",
    "\n",
    "**c. event_date: Represents the date of the event.**\n",
    "\n",
    "**d. venue: Represents the venue of the event.**\n",
    "\n",
    "**e. seat_number: Represents the seat number associated with the ticket.**\n",
    "\n",
    "**f. price: Represents the price of the ticket.**\n",
    "\n",
    "**g. is_reserved: Represents the reservation status of the ticket.**\n",
    "\n",
    "**The class also includes the following methods:**\n",
    "\n",
    "**a. reserve_ticket(self): Marks the ticket as reserved if it is not already reserved.**\n",
    "\n",
    "**b. cancel_reservation(self): Cancels the reservation of the ticket if it is already reserved.**\n",
    "\n",
    "**c. display_ticket_info(self): Displays the information about the ticket, including its attributes and reservation status.**"
   ]
  },
  {
   "cell_type": "code",
   "execution_count": 10,
   "id": "9dad8a53",
   "metadata": {},
   "outputs": [],
   "source": [
    "# Ticket booking system\n",
    "\n",
    "class Ticket:\n",
    "    def __init__(self, ticket_id, event_name, event_date, venue, seat_number, price, is_reserved):\n",
    "        # Constructor method to initialize attributes for class Ticket\n",
    "        self.ticket_id = ticket_id\n",
    "        self.event_name = event_name\n",
    "        self.event_date = event_date\n",
    "        self.venue = venue\n",
    "        self.seat_number = seat_number\n",
    "        self.price = price\n",
    "        self.is_reserved = is_reserved\n",
    "\n",
    "    def reserve_ticket(self):\n",
    "        # Method to reserve a ticket\n",
    "        if self.is_reserved == \"Not reserved\":\n",
    "            self.is_reserved = \"Reserved\"\n",
    "            \n",
    "        print(\"Ticket is reserved!\")\n",
    "\n",
    "    def cancel_reservation(self):\n",
    "        # Method to cancel a ticket reservation\n",
    "        if self.is_reserved == \"Reserved\":\n",
    "            self.is_reserved = \"Reservation Cancelled\"\n",
    "            \n",
    "        print(\"Reservation is cancelled!\")\n",
    "\n",
    "    def display_ticket_info(self):\n",
    "        # Method to display ticket information\n",
    "        print(f\"Information about the ticket:\\n Ticket ID: {self.ticket_id}\\n Event name: {self.event_name}\\n Event date: {self.event_date}\\n Venue: {self.venue}\\n Seat number: {self.seat_number}\\n Price: {self.price}\\n Reservation status: {self.is_reserved}\")\n"
   ]
  },
  {
   "cell_type": "code",
   "execution_count": 13,
   "id": "9c1a0334",
   "metadata": {},
   "outputs": [
    {
     "name": "stdout",
     "output_type": "stream",
     "text": [
      "Information about the ticket:\n",
      " Ticket ID: 69\n",
      " Event name: Raftarrr\n",
      " Event date: 20 June 2023\n",
      " Venue: Sector-29, Gurgaon\n",
      " Seat number: Z6\n",
      " Price: 4000\n",
      " Reservation status: Reserved\n"
     ]
    }
   ],
   "source": [
    "ticket1=Ticket(69, \"Raftarrr\", \"20 June 2023\", \"Sector-29, Gurgaon\", \"Z6\", 4000, \"Reserved\")\n",
    "ticket1.display_ticket_info()"
   ]
  },
  {
   "cell_type": "code",
   "execution_count": 14,
   "id": "1e88e0a3",
   "metadata": {},
   "outputs": [
    {
     "name": "stdout",
     "output_type": "stream",
     "text": [
      "Ticket is reserved!\n"
     ]
    }
   ],
   "source": [
    "ticket1.reserve_ticket()"
   ]
  },
  {
   "cell_type": "code",
   "execution_count": 15,
   "id": "d69c3786",
   "metadata": {},
   "outputs": [
    {
     "name": "stdout",
     "output_type": "stream",
     "text": [
      "Reservation is cancelled!\n"
     ]
    }
   ],
   "source": [
    "ticket1.cancel_reservation()"
   ]
  },
  {
   "cell_type": "code",
   "execution_count": 16,
   "id": "b2bf23a3",
   "metadata": {},
   "outputs": [
    {
     "name": "stdout",
     "output_type": "stream",
     "text": [
      "Information about the ticket:\n",
      " Ticket ID: 69\n",
      " Event name: Raftarrr\n",
      " Event date: 20 June 2023\n",
      " Venue: Sector-29, Gurgaon\n",
      " Seat number: Z6\n",
      " Price: 4000\n",
      " Reservation status: Reservation Cancelled\n"
     ]
    }
   ],
   "source": [
    "ticket1.display_ticket_info()"
   ]
  },
  {
   "cell_type": "code",
   "execution_count": 17,
   "id": "c426f487",
   "metadata": {},
   "outputs": [
    {
     "name": "stdout",
     "output_type": "stream",
     "text": [
      "Ticket is reserved!\n"
     ]
    }
   ],
   "source": [
    "ticket2=Ticket(70, \"Raftarrr\", \"20 June 2023\", \"Sector-29, Gurgaon\", \"Z7\", 4000, \"Reserved\")\n",
    "ticket2.reserve_ticket()"
   ]
  },
  {
   "cell_type": "code",
   "execution_count": 18,
   "id": "6821f18e",
   "metadata": {},
   "outputs": [
    {
     "name": "stdout",
     "output_type": "stream",
     "text": [
      "Reservation is cancelled!\n",
      "Ticket is reserved!\n"
     ]
    }
   ],
   "source": [
    "ticket2.cancel_reservation()\n",
    "ticket2.reserve_ticket()"
   ]
  },
  {
   "cell_type": "code",
   "execution_count": 19,
   "id": "85da17da",
   "metadata": {},
   "outputs": [
    {
     "name": "stdout",
     "output_type": "stream",
     "text": [
      "Information about the ticket:\n",
      " Ticket ID: 70\n",
      " Event name: Raftarrr\n",
      " Event date: 20 June 2023\n",
      " Venue: Sector-29, Gurgaon\n",
      " Seat number: Z7\n",
      " Price: 4000\n",
      " Reservation status: Reservation Cancelled\n"
     ]
    }
   ],
   "source": [
    "ticket2.display_ticket_info()"
   ]
  },
  {
   "cell_type": "markdown",
   "id": "1c84de3d",
   "metadata": {},
   "source": [
    "**9.You are creating a shopping cart for an e-commerce website. Using OOP to model the \"ShoppingCart\" functionality the class should contain following attributes and methods:**\n",
    "\n",
    "**a. items: Represents the list of items in the shopping cart.**\n",
    "\n",
    "**The class also includes the following methods:**\n",
    "\n",
    "**a. add_item(self, item): Adds an item to the shopping cart by appending it to the list of items.**\n",
    "\n",
    "**b. remove_item(self, item): Removes an item from the shopping cart if it exists in the list.**\n",
    "\n",
    "**c. view_cart(self): Displays the items currently present in the shopping cart.**\n",
    "\n",
    "**d. clear_cart(self): Clears all items from the shopping cart by reassigning an empty list to the items attribute.**"
   ]
  },
  {
   "cell_type": "code",
   "execution_count": 20,
   "id": "6b83009f",
   "metadata": {},
   "outputs": [],
   "source": [
    "# Shopping cart for e-commerce website\n",
    "\n",
    "class ShoppingCart:\n",
    "    def __init__(self):\n",
    "        # Constructor method to initialize an empty cart\n",
    "        self.items = []\n",
    "\n",
    "    def add_item(self, item):\n",
    "        # Method to add an item to the cart\n",
    "        self.items.append(item)\n",
    "        print(f\"{item} has been added to the cart.\")\n",
    "\n",
    "    def remove_item(self, item):\n",
    "        # Method to remove an item from the cart\n",
    "        if item in self.items:\n",
    "            self.items.remove(item)\n",
    "            print(f\"{item} has been removed from the cart.\")\n",
    "        else:\n",
    "            print(f\"{item} is not in the cart.\")\n",
    "\n",
    "    def view_cart(self):\n",
    "        # Method to view items in the cart\n",
    "        if self.items:\n",
    "            print(f\"Items present in your cart are {self.items}\")\n",
    "        else:\n",
    "            print(\"The cart is empty.\")\n",
    "\n",
    "    def clear_cart(self):\n",
    "        # Method to clear the cart\n",
    "        self.items = []\n",
    "        print(\"You have cleared your cart!\")\n"
   ]
  },
  {
   "cell_type": "code",
   "execution_count": 21,
   "id": "3e889cb3",
   "metadata": {},
   "outputs": [],
   "source": [
    "cart1=ShoppingCart()"
   ]
  },
  {
   "cell_type": "code",
   "execution_count": 22,
   "id": "08396e5e",
   "metadata": {},
   "outputs": [
    {
     "name": "stdout",
     "output_type": "stream",
     "text": [
      "BP Machine has been added to the cart.\n"
     ]
    }
   ],
   "source": [
    "cart1.add_item(\"BP Machine\")"
   ]
  },
  {
   "cell_type": "code",
   "execution_count": 23,
   "id": "8cf0feac",
   "metadata": {},
   "outputs": [
    {
     "name": "stdout",
     "output_type": "stream",
     "text": [
      "Sugar Machine has been added to the cart.\n"
     ]
    }
   ],
   "source": [
    "cart1.add_item(\"Sugar Machine\")"
   ]
  },
  {
   "cell_type": "code",
   "execution_count": 24,
   "id": "47ed214c",
   "metadata": {},
   "outputs": [
    {
     "name": "stdout",
     "output_type": "stream",
     "text": [
      "Items present in your cart are ['BP Machine', 'Sugar Machine']\n"
     ]
    }
   ],
   "source": [
    "cart1.view_cart()"
   ]
  },
  {
   "cell_type": "code",
   "execution_count": 25,
   "id": "3e34c421",
   "metadata": {},
   "outputs": [
    {
     "name": "stdout",
     "output_type": "stream",
     "text": [
      "BP Machine has been removed from the cart.\n"
     ]
    }
   ],
   "source": [
    "cart1.remove_item(\"BP Machine\")"
   ]
  },
  {
   "cell_type": "code",
   "execution_count": 26,
   "id": "65d5fe15",
   "metadata": {},
   "outputs": [
    {
     "name": "stdout",
     "output_type": "stream",
     "text": [
      "Items present in your cart are ['Sugar Machine']\n"
     ]
    }
   ],
   "source": [
    "cart1.view_cart()"
   ]
  },
  {
   "cell_type": "code",
   "execution_count": 28,
   "id": "4dcd02b4",
   "metadata": {},
   "outputs": [
    {
     "name": "stdout",
     "output_type": "stream",
     "text": [
      "BP Machine is not in the cart.\n"
     ]
    }
   ],
   "source": [
    "cart1.remove_item(\"BP Machine\")"
   ]
  },
  {
   "cell_type": "code",
   "execution_count": 29,
   "id": "56ff18fc",
   "metadata": {},
   "outputs": [
    {
     "name": "stdout",
     "output_type": "stream",
     "text": [
      "Colgate has been added to the cart.\n",
      "Flour has been added to the cart.\n",
      "Coffee has been added to the cart.\n"
     ]
    }
   ],
   "source": [
    "cart1.add_item(\"Colgate\")\n",
    "cart1.add_item(\"Flour\")\n",
    "cart1.add_item(\"Coffee\")"
   ]
  },
  {
   "cell_type": "code",
   "execution_count": 30,
   "id": "a262626b",
   "metadata": {},
   "outputs": [
    {
     "name": "stdout",
     "output_type": "stream",
     "text": [
      "Items present in your cart are ['Sugar Machine', 'Colgate', 'Flour', 'Coffee']\n"
     ]
    }
   ],
   "source": [
    "cart1.view_cart()"
   ]
  },
  {
   "cell_type": "code",
   "execution_count": 31,
   "id": "44338d04",
   "metadata": {},
   "outputs": [
    {
     "name": "stdout",
     "output_type": "stream",
     "text": [
      "You have cleared your cart!\n"
     ]
    }
   ],
   "source": [
    "cart1.clear_cart()"
   ]
  },
  {
   "cell_type": "code",
   "execution_count": 32,
   "id": "2d4292b8",
   "metadata": {},
   "outputs": [
    {
     "name": "stdout",
     "output_type": "stream",
     "text": [
      "The cart is empty.\n"
     ]
    }
   ],
   "source": [
    "cart1.view_cart()"
   ]
  },
  {
   "cell_type": "markdown",
   "id": "dc77a5a2",
   "metadata": {},
   "source": [
    "**10.Imagine a school management system. You have to design the \"Student\" class using OOP concepts.The “Student” class has the following attributes:**\n",
    "\n",
    "**a. name: Represents the name of the student.**\n",
    "\n",
    "**b. age: Represents the age of the student.**\n",
    "\n",
    "**c. grade: Represents the grade or class of the student.**\n",
    "\n",
    "**d. student_id: Represents the unique identifier for the student.**\n",
    "\n",
    "**e. attendance: Represents the attendance record of the student.**\n",
    "\n",
    "**The class should also include the following methods:**\n",
    "\n",
    "**a. update_attendance(self, date, status): Updates the attendance record of the student for a given date with the provided status (e.g., present or absent).**\n",
    "\n",
    "**b. get_attendance(self): Returns the attendance record of the student.**\n",
    "\n",
    "**c. get_average_attendance(self): Calculates and returns the average attendance percentage of the student based on their attendance record.**"
   ]
  },
  {
   "cell_type": "code",
   "execution_count": 33,
   "id": "753b35bd",
   "metadata": {},
   "outputs": [],
   "source": [
    "# School management system\n",
    "\n",
    "class Student:\n",
    "    def __init__(self, name, age, grade, student_id):\n",
    "        # Constructor method to initialize student attributes\n",
    "        self.name = name\n",
    "        self.age = age\n",
    "        self.grade = grade\n",
    "        self.student_id = student_id\n",
    "        self.attendance = {}  # Initialize attendance as an empty dictionary\n",
    "\n",
    "    def update_attendance(self, date, status):\n",
    "        # Method to update student's attendance\n",
    "        if date in self.attendance:\n",
    "            # If the date already exists, update the status\n",
    "            self.attendance[date] = status\n",
    "        else:\n",
    "            # If the date doesn't exist, add a new entry\n",
    "            self.attendance[date] = status\n",
    "\n",
    "    def get_attendance(self):\n",
    "        # Method to get the student's attendance record\n",
    "        return self.attendance\n",
    "\n",
    "    def get_average_attendance(self):\n",
    "        # Method to calculate and return the average attendance percentage\n",
    "        if not self.attendance:\n",
    "            return 0.0  # Avoid division by zero if there is no attendance record\n",
    "\n",
    "        total_days = len(self.attendance)\n",
    "        present_days = sum(1 for status in self.attendance.values() if status == 'present')\n",
    "        average_percentage = (present_days / total_days) * 100\n",
    "        return average_percentage\n"
   ]
  },
  {
   "cell_type": "code",
   "execution_count": 41,
   "id": "67492729",
   "metadata": {},
   "outputs": [],
   "source": [
    "student1=Student(\"Abhinavv Yadav\",23,\"A+\",19001003003)"
   ]
  },
  {
   "cell_type": "code",
   "execution_count": 42,
   "id": "417d185f",
   "metadata": {},
   "outputs": [],
   "source": [
    "student1.update_attendance(\"20-06-2023\",\"present\")\n",
    "student1.update_attendance(\"30-08-2023\",\"absent\")\n",
    "student1.update_attendance(\"31-08-2023\",\"present\")\n",
    "student1.update_attendance(\"01-09-2023\",\"absent\")"
   ]
  },
  {
   "cell_type": "code",
   "execution_count": 43,
   "id": "6527df85",
   "metadata": {},
   "outputs": [
    {
     "data": {
      "text/plain": [
       "{'20-06-2023': 'present',\n",
       " '30-08-2023': 'absent',\n",
       " '31-08-2023': 'present',\n",
       " '01-09-2023': 'absent'}"
      ]
     },
     "execution_count": 43,
     "metadata": {},
     "output_type": "execute_result"
    }
   ],
   "source": [
    "student1.get_attendance()"
   ]
  },
  {
   "cell_type": "code",
   "execution_count": 44,
   "id": "7978888f",
   "metadata": {},
   "outputs": [
    {
     "data": {
      "text/plain": [
       "50.0"
      ]
     },
     "execution_count": 44,
     "metadata": {},
     "output_type": "execute_result"
    }
   ],
   "source": [
    "student1.get_average_attendance()"
   ]
  }
 ],
 "metadata": {
  "kernelspec": {
   "display_name": "Python 3 (ipykernel)",
   "language": "python",
   "name": "python3"
  },
  "language_info": {
   "codemirror_mode": {
    "name": "ipython",
    "version": 3
   },
   "file_extension": ".py",
   "mimetype": "text/x-python",
   "name": "python",
   "nbconvert_exporter": "python",
   "pygments_lexer": "ipython3",
   "version": "3.10.9"
  }
 },
 "nbformat": 4,
 "nbformat_minor": 5
}
