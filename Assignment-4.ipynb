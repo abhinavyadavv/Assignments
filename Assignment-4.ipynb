{
 "cells": [
  {
   "cell_type": "markdown",
   "id": "49c83238",
   "metadata": {},
   "source": [
    "**1.What exactly is [  ] ?**\n",
    "\n",
    "*Answer: [ ] is an empty list which has no elements in it.*\n",
    "\n",
    "*A list is a collection of items that can be of any data type.*"
   ]
  },
  {
   "cell_type": "code",
   "execution_count": 7,
   "id": "51901bb6",
   "metadata": {},
   "outputs": [
    {
     "name": "stdout",
     "output_type": "stream",
     "text": [
      "[]\n",
      "[1, 3.2, True, 'Apple']\n",
      "[1, 2, 10, 3, 4, 5, 6, 7, 8, 9]\n"
     ]
    }
   ],
   "source": [
    "#Empty list\n",
    "list1=[]\n",
    "print(list1)\n",
    "\n",
    "#Heterogeneous list\n",
    "list2=[1,3.2,True,\"Apple\"]\n",
    "print(list2)\n",
    "\n",
    "#Changing items from list\n",
    "list3=[1,2,3,4,5,6,7,8,9]\n",
    "list3.insert(2,10)\n",
    "print(list3)"
   ]
  },
  {
   "cell_type": "markdown",
   "id": "5ec3edf6",
   "metadata": {},
   "source": [
    "**2.In a list of values stored in a variable called spam, how would you assign the value 'hello' as the third value? (Assume [2, 4, 6, 8, 10] are in spam.)**\n",
    "\n",
    "*Answer: To assign 'hello' as a third value to the list of values stored in the variable \"spam\", we will assign the index at which we want to replace the value.*\n",
    "\n",
    "**Example:** "
   ]
  },
  {
   "cell_type": "code",
   "execution_count": 8,
   "id": "47fb3696",
   "metadata": {},
   "outputs": [
    {
     "name": "stdout",
     "output_type": "stream",
     "text": [
      "[2, 4, 'hello', 8, 10]\n"
     ]
    }
   ],
   "source": [
    "spam=[2,4,6,8,10]\n",
    "spam[2] = 'hello'\n",
    "print(spam)"
   ]
  },
  {
   "cell_type": "markdown",
   "id": "bea1df22",
   "metadata": {},
   "source": [
    "**Let's pretend the spam includes the list ['a', 'b', 'c', 'd'] for the next three queries.**"
   ]
  },
  {
   "cell_type": "markdown",
   "id": "76e3d3ba",
   "metadata": {},
   "source": [
    "**3.What is the value of spam[int(int('3' * 2) / 11)]?**\n",
    "\n",
    "*Answer:The value of spam[int(int('3' * 2) / 11)] is d.*\n",
    "\n",
    "*'3' * 2 evaluates to '33'.*\n",
    "\n",
    "*int('33') converts the string '33' to an integer, which is 33.*\n",
    "\n",
    "*33 / 11 performs integer division, resulting in 3.*\n",
    "\n"
   ]
  },
  {
   "cell_type": "code",
   "execution_count": 1,
   "id": "6bf1b9df",
   "metadata": {},
   "outputs": [
    {
     "name": "stdout",
     "output_type": "stream",
     "text": [
      "d\n"
     ]
    }
   ],
   "source": [
    "spam=['a','b','c','d']\n",
    "print(spam[int(int('3' * 2) / 11)])"
   ]
  },
  {
   "cell_type": "markdown",
   "id": "a92a09b8",
   "metadata": {},
   "source": [
    "**4. What is the value of spam[-1]?**\n",
    "\n",
    "*Answer: Value of spam[-1] is 'd'.In Python, negative indices are used to access elements from the end of a list.* \n",
    "\n",
    "*We are given the variable spam=['a','b','c','d'] and spam[-1] is equivalent to spam[len(spam)-1], which results to spam[4-1].*\n",
    "\n",
    "*spam[4-1] gives spam[3] which means that the third index in the list spam, which is 'd'*\n",
    "\n",
    "\n",
    "**5. What is the value of spam[:2]?**\n",
    "\n",
    "*Answer: Value of spam[:2] is ['a','b'].The slice notation in Python allows us to extract a portion of a list.*\n",
    "\n",
    "*We are given the variable spam=['a','b','c','d'] and spam[:2] is equivalent to spam[0:2] which means that it will print those items from the list which are starting from index 0 but end on index 1. Here, 0 is inclusive but 2 is exclusive.*\n",
    "\n",
    "*The slice notation in Python allows us to extract a portion of a list.*"
   ]
  },
  {
   "cell_type": "markdown",
   "id": "d43e702d",
   "metadata": {},
   "source": [
    "**Let's pretend bacon has the list [3.14, 'cat,' 11, 'cat,' True] for the next three questions.**\n",
    "\n",
    "\n",
    "**6.What is the value of bacon.index('cat')?**\n",
    "\n",
    "*Answer: The value of bacon.index('cat') is 1,as the first occurrence of the string 'cat' is at index 1 in the list.*\n",
    "\n",
    "*index() is used to know the index position of the specific item. Here, bacon.index('cat') is used to know the index value of item 'cat' which is 1.*\n",
    "\n",
    "*In lists, indexing starts from 0.*\n",
    "\n",
    "**7. How does bacon.append(99) change the look of the list value in bacon?**\n",
    "\n",
    "*Answer: bacon.append(99) will add the item 99 to the end of the list.Therefore,the appended list will be [3.14, 'cat', 11, 'cat', True, 99]*\n",
    "\n",
    "*append() in lists is used to add items to the list without removing any already existed item.*\n",
    "\n",
    "**8. How does bacon.remove('cat') change the look of the list in bacon?**\n",
    "\n",
    "*Answer: bacon.remove('cat') will remove the first occurrence of the string 'cat' from the list,Therefore, the list after removal of the item 'cat' will be [3.14, 11, True]*\n",
    "\n",
    "*remove() is used to remove the item from the list. remove() takes the item as the parameter and removes it from the list.*"
   ]
  },
  {
   "cell_type": "markdown",
   "id": "5838c2d0",
   "metadata": {},
   "source": [
    "**9.What are the list concatenation and list replication operators?**\n",
    "\n",
    "*Answer: In Python, the list concatenation operator is `+`, and the list replication operator is `*`.*\n",
    "\n",
    "*The `+` operator concatenates two lists together in a single list.The new list will contain all of the elements from the first list, followed by all of the elements from the second list.*\n",
    "\n",
    "\n",
    "*The `*` operator repeats a list a specified number of times.The new list will contain the original list repeated the specified number of times.*"
   ]
  },
  {
   "cell_type": "code",
   "execution_count": 3,
   "id": "80787dbf",
   "metadata": {},
   "outputs": [
    {
     "name": "stdout",
     "output_type": "stream",
     "text": [
      "['Abhinav', 2, 3.16, 'Mohit', 5, 6]\n"
     ]
    }
   ],
   "source": [
    "list1 = [\"Abhinav\", 2, 3.16]\n",
    "list2 = [\"Mohit\", 5, 6]\n",
    "\n",
    "# Concatenate list1 and list2\n",
    "new_list = list1 + list2\n",
    "print(new_list)"
   ]
  },
  {
   "cell_type": "code",
   "execution_count": 4,
   "id": "5219d16e",
   "metadata": {},
   "outputs": [
    {
     "name": "stdout",
     "output_type": "stream",
     "text": [
      "['Abhinav', 2, 3.16, 'Abhinav', 2, 3.16]\n"
     ]
    }
   ],
   "source": [
    "list1 = [\"Abhinav\", 2, 3.16]\n",
    "\n",
    "# Replicate list1 twice\n",
    "new_list = list1 * 2\n",
    "print(new_list)"
   ]
  },
  {
   "cell_type": "markdown",
   "id": "47ee631e",
   "metadata": {},
   "source": [
    "**10.What is difference between the list methods append() and insert()?**\n",
    "\n",
    "*Answer: The `append()` and `insert()` methods are both used to add elements to a list in Python.However their approach is different.*\n",
    "\n",
    "*The `append()` method adds an element to the end of the list.It takes single argument which is the element we want to add.*\n",
    "\n",
    "*The `insert()` method inserts an element at a specified index in the list. It takes two arguments:the index where we want to insert the element, and the element itself.*"
   ]
  },
  {
   "cell_type": "code",
   "execution_count": 5,
   "id": "87e059af",
   "metadata": {},
   "outputs": [
    {
     "name": "stdout",
     "output_type": "stream",
     "text": [
      "[1, 2, 3, 4, 5, 'cat']\n",
      "[1, 2, 3, 'apple', 4, 5, 'cat']\n"
     ]
    }
   ],
   "source": [
    "#append()\n",
    "list1=[1,2,3,4,5]\n",
    "list1.append('cat')\n",
    "print(list1)\n",
    "\n",
    "#insert()\n",
    "list1.insert(3,'apple')\n",
    "print(list1)"
   ]
  },
  {
   "cell_type": "markdown",
   "id": "8ae35edd",
   "metadata": {},
   "source": [
    "**11.What are the two methods for removing items from a list?**\n",
    "\n",
    "*Answer:Two methods for removing items from a list are `remove()` and `pop()`.*\n",
    "\n",
    "*The `remove()`method is used to remove an item from the list.In `remove()` method,we specify the item that needs to be removed from the list.*\n",
    "\n",
    "*However,In `pop()` method, we specify the index of the item to be removed from the list.*"
   ]
  },
  {
   "cell_type": "code",
   "execution_count": 6,
   "id": "fcc1dbd5",
   "metadata": {},
   "outputs": [
    {
     "name": "stdout",
     "output_type": "stream",
     "text": [
      "['name', 'age', 'city']\n",
      "['name', 'age']\n"
     ]
    }
   ],
   "source": [
    "#removing items from list\n",
    "\n",
    "#remove()\n",
    "list1=['name','age','city','roll number']\n",
    "list1.remove('roll number')    #removing the item named 'roll number'\n",
    "print(list1)\n",
    "\n",
    "#pop()\n",
    "list1.pop(2)  #popping the item at index 2\n",
    "print(list1)"
   ]
  },
  {
   "cell_type": "markdown",
   "id": "0cd2d881",
   "metadata": {},
   "source": [
    "**12. Describe how list values and string values are identical.**\n",
    "\n",
    "*Answer:List values and string values in Python have some similarities but they are different data types.Some similarities are:*\n",
    "\n",
    "**1.Ordered Sequences:** *Both lists and strings are ordered sequences of elements. In a list, these elements can be of any data type, while in a string, they are characters.*\n",
    "\n",
    "**2.Indexing:** *We can access individual elements of both lists and strings by using index notation.*\n",
    "\n",
    "**3.Slicing:** *We can extract a portion of both lists and strings using slicing.*\n",
    "\n",
    "**4.Iteration:** *We can iterate through the elements of a list or the characters of a string using loops or\n",
    "comprehensions.*\n",
    "\n",
    "**Example:**"
   ]
  },
  {
   "cell_type": "code",
   "execution_count": 9,
   "id": "51d7cc9e",
   "metadata": {},
   "outputs": [
    {
     "name": "stdout",
     "output_type": "stream",
     "text": [
      "1\n",
      "2\n",
      "3\n",
      "4\n",
      "5\n",
      "H\n",
      "e\n",
      "l\n",
      "l\n",
      "o\n",
      ",\n",
      " \n",
      "W\n",
      "o\n",
      "r\n",
      "l\n",
      "d\n",
      "!\n"
     ]
    }
   ],
   "source": [
    "# Similarities between lists and strings\n",
    "\n",
    "# Ordered Sequences\n",
    "# Lists are ordered sequences of elements.\n",
    "my_list = [1, 2, 3, 4, 5]\n",
    "\n",
    "# Strings are ordered sequences of characters.\n",
    "my_string = \"Hello, World!\"\n",
    "\n",
    "# Indexing\n",
    "# We can access individual elements using index notation.\n",
    "first_element = my_list[0]          # Accessing the first element of the list\n",
    "first_char = my_string[0]           # Accessing the first character of the string\n",
    "\n",
    "# Slicing\n",
    "# We can extract a portion of the sequence using slicing.\n",
    "sub_list = my_list[1:4]             # Extract a sublist [2, 3, 4]\n",
    "substring = my_string[7:12]         # Extract \"World\"\n",
    "\n",
    "# Iteration\n",
    "# We can iterate through elements/characters using loops or comprehensions.\n",
    "for num in my_list:\n",
    "    print(num)                       # Iterating through the list\n",
    "\n",
    "for char in my_string:\n",
    "    print(char)                      # Iterating through the string\n"
   ]
  },
  {
   "cell_type": "markdown",
   "id": "a09e1a7c",
   "metadata": {},
   "source": [
    "**13.What's the difference between tuples and lists?**\n",
    "\n",
    "*Answer:Tuples are enclosed in paranthesis ( ) whereas list is enclosed in square brackets [ ] where each items are separated by commas.*\n",
    "\n",
    "*Tuples are immutable in nature which means they cannot be altered or changed after creation whereas lists are mutable in nature.*\n",
    "\n",
    "*Tuples are generally faster than lists.*"
   ]
  },
  {
   "cell_type": "code",
   "execution_count": 7,
   "id": "97e28942",
   "metadata": {},
   "outputs": [
    {
     "name": "stdout",
     "output_type": "stream",
     "text": [
      "[1, 2, 100, 3, 4, 5]\n"
     ]
    }
   ],
   "source": [
    "#lists\n",
    "list1=[1,2,3,4,5]\n",
    "list1.insert(2,100)   #inserting item 100 at index 2\n",
    "print(list1)"
   ]
  },
  {
   "cell_type": "code",
   "execution_count": 2,
   "id": "c4986b23",
   "metadata": {},
   "outputs": [
    {
     "ename": "AttributeError",
     "evalue": "'tuple' object has no attribute 'insert'",
     "output_type": "error",
     "traceback": [
      "\u001b[1;31m---------------------------------------------------------------------------\u001b[0m",
      "\u001b[1;31mAttributeError\u001b[0m                            Traceback (most recent call last)",
      "Cell \u001b[1;32mIn[2], line 3\u001b[0m\n\u001b[0;32m      1\u001b[0m \u001b[38;5;66;03m#tuples\u001b[39;00m\n\u001b[0;32m      2\u001b[0m tuple1\u001b[38;5;241m=\u001b[39m(\u001b[38;5;241m1\u001b[39m,\u001b[38;5;241m2\u001b[39m,\u001b[38;5;241m3\u001b[39m,\u001b[38;5;241m4\u001b[39m,\u001b[38;5;241m5\u001b[39m)\n\u001b[1;32m----> 3\u001b[0m \u001b[43mtuple1\u001b[49m\u001b[38;5;241;43m.\u001b[39;49m\u001b[43minsert\u001b[49m(\u001b[38;5;241m2\u001b[39m,\u001b[38;5;241m100\u001b[39m)     \u001b[38;5;66;03m#inserting item 100 at index 2\u001b[39;00m\n\u001b[0;32m      4\u001b[0m \u001b[38;5;28mprint\u001b[39m(tuple1)\n",
      "\u001b[1;31mAttributeError\u001b[0m: 'tuple' object has no attribute 'insert'"
     ]
    }
   ],
   "source": [
    "#tuples\n",
    "tuple1=(1,2,3,4,5)\n",
    "tuple1.insert(2,100)     #inserting item 100 at index 2\n",
    "print(tuple1)\n",
    "\n",
    "# This error proves its immutability"
   ]
  },
  {
   "cell_type": "markdown",
   "id": "ad000f04",
   "metadata": {},
   "source": [
    "**14. How do you type a tuple value that only contains the integer 42?**\n",
    "\n",
    "*Answer:To type a tuple value that only contains the integer 42, we can simply assign the tuple with some variable like `my_tuple=(42)`.* \n",
    "\n",
    "*It's important to note that when creating a tuple with a single value, we should include a comma after the value to distinguish it as a tuple. So, it's better to write it as `my_tuple = (42,)`. This ensures that Python recognizes it as a tuple with one element rather than just an integer in parentheses.*\n",
    "\n",
    "\n",
    "**15.How do you get a list value's tuple form? How do you get a tuple value's list form?**\n",
    "\n",
    "*Answer:To convert a list to a tuple in Python,we can use the tuple() constructor and similarly to convert a tuple to a list,we can use the list() constructor:*\n",
    "\n",
    "**Example:**"
   ]
  },
  {
   "cell_type": "code",
   "execution_count": null,
   "id": "1a09e4b6",
   "metadata": {},
   "outputs": [],
   "source": [
    "# converting list value to tuple form\n",
    "\n",
    "my_list = [1, 2, 3, 4, 5]\n",
    "my_tuple = tuple(my_list)\n",
    "print(my_tuple)  # Output: (1, 2, 3, 4, 5)\n"
   ]
  },
  {
   "cell_type": "code",
   "execution_count": null,
   "id": "b654cc1c",
   "metadata": {},
   "outputs": [],
   "source": [
    "# converting tuple value to list form\n",
    "\n",
    "\n",
    "my_tuple = (1, 2, 3, 4, 5)\n",
    "my_list = list(my_tuple)\n",
    "print(my_list)"
   ]
  },
  {
   "cell_type": "markdown",
   "id": "4fa5e467",
   "metadata": {},
   "source": [
    "**16.Variables that \"contain\" list values are not necessarily lists themselves. Instead, what do they contain?**\n",
    "\n",
    "*Answer:Variables that \"contain\" list values are not necessarily lists themselves.Instead,they contain references to lists. This means that the variable is not storing the list data itself, but rather a pointer to the location where the list data is stored in memory.*\n",
    "\n",
    "*For example, the code mentioned below creates a list and assigns it to the variable `my_list`:*\n",
    "\n",
    "**my_list = [1, 2, 3]**\n",
    "\n",
    "*The variable my_list does not contain the list data itself. Instead, it contains a reference to the location where the list data is stored in memory.*\n",
    "\n",
    "*When we access the value of my_list, Python follows the reference to the location where the list data is stored and returns the list data.It simply means that we can modify the list data without changing the variable that contains the reference to the list.*"
   ]
  },
  {
   "cell_type": "markdown",
   "id": "5764cf24",
   "metadata": {},
   "source": [
    "**17.How do you distinguish between copy.copy() and copy.deepcopy()?**\n",
    "\n",
    "*Answer:The `copy.copy()` and `copy.deepcopy()` functions are both used to create copies of objects in Python.However they work in different way*\n",
    "\n",
    "\n",
    "*We use `copy.copy()` (shallow copy) when we want a new object with a similar structure to the original but don't need to create copies of nested objects.*\n",
    "\n",
    "\n",
    "*And We use `copy.deepcopy()` (deep copy) when we want a completely independent copy of the original object,including all nested objects, and changes should not affect the original.*"
   ]
  }
 ],
 "metadata": {
  "kernelspec": {
   "display_name": "Python 3 (ipykernel)",
   "language": "python",
   "name": "python3"
  },
  "language_info": {
   "codemirror_mode": {
    "name": "ipython",
    "version": 3
   },
   "file_extension": ".py",
   "mimetype": "text/x-python",
   "name": "python",
   "nbconvert_exporter": "python",
   "pygments_lexer": "ipython3",
   "version": "3.10.9"
  }
 },
 "nbformat": 4,
 "nbformat_minor": 5
}
