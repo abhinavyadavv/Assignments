{
 "cells": [
  {
   "cell_type": "markdown",
   "id": "f4ab7042",
   "metadata": {},
   "source": [
    "**1.Explain what inheritance is in object-oriented programming and why it is used.**\n",
    "\n",
    "*Answer:Inheritance is a fundamental concept in object-oriented programming that allows a class to inherit properties and behaviors (attributes and methods) from another class.*\n",
    "\n",
    "*In OOP, classes can be organized hierarchically, where a new class (the derived or child class) can inherit the characteristics of an existing class (the base or parent class).*\n",
    "\n",
    "*Inheritance is used to promote code reusability, abstraction, and the creation of a hierarchy of related classes.*"
   ]
  },
  {
   "cell_type": "markdown",
   "id": "3d08e268",
   "metadata": {},
   "source": [
    "**2. Discuss the concept of single inheritance and multiple inheritance, highlighting their differences and advantages.**\n",
    "\n",
    "Answer: \n",
    "**Single Inheritance:** *Single inheritance occurs when child class inherits only a single present class*\n",
    "   \n",
    "**Advantages:**\n",
    "*Single inheritance is simpler and more straightforward to implement.It is commonly used when a class needs to extend the functionality of another class.*\n",
    "\n",
    "*Reduced Ambiguity: Since there's only one parent class, there are no ambiguities in method or attribute resolution. It's clear where a particular method or attribute is inherited from.*\n",
    "\n",
    "   \n",
    "**Multiple Inheritance:** *In multiple inheritance, a class can inherit from multiple base classes. This means that a child class can have multiple parent classes.*\n",
    "   \n",
    "**Advantages:**\n",
    "\n",
    "*Reusability: Multiple inheritance enhances code reusability. A class can inherit features from multiple parent classes, allowing it to combine functionalities from different sources.*\n",
    "\n",
    "*Flexible Design: Multiple inheritance provides flexibility in class design. Developers can create complex class hierarchies that accurately model real-world relationships and behavior.*\n",
    "\n",
    " \n",
    "**Differences:**\n",
    "\n",
    "*Ambiguity:Multiple inheritance can lead to ambiguity issues when two or more parent classes define methods or attributes with the same name.However,In single inheritance, there is no issue of ambiguity when two or more parent classes define methods or attributes with the same name because there's only one parent class.*\n",
    "\n",
    "*Complexity: Multiple inheritance can introduce complexity and make code harder to understand if not used carefully.However,In Single inheritance is simpler and easier to understand because a child class inherits from only one parent class.*  \n",
    "\n",
    "**Examples:**"
   ]
  },
  {
   "cell_type": "code",
   "execution_count": 1,
   "id": "8f4f6fe2",
   "metadata": {},
   "outputs": [
    {
     "name": "stdout",
     "output_type": "stream",
     "text": [
      "Animal speaks\n",
      "Bird flies\n"
     ]
    }
   ],
   "source": [
    "class Animal:\n",
    "    def speak(self):\n",
    "        print(\"Animal speaks\")\n",
    "\n",
    "class Bird(Animal):\n",
    "    def fly(self):\n",
    "        print(\"Bird flies\")\n",
    "\n",
    "parrot = Bird()\n",
    "parrot.speak()  # Inherited from Animal\n",
    "parrot.fly()    # Defined in Bird"
   ]
  },
  {
   "cell_type": "code",
   "execution_count": 2,
   "id": "8b3b0248",
   "metadata": {},
   "outputs": [
    {
     "name": "stdout",
     "output_type": "stream",
     "text": [
      "Making a phone call\n",
      "Browsing the web\n",
      "Using touch screen\n"
     ]
    }
   ],
   "source": [
    "class Phone:\n",
    "    def call(self):\n",
    "        print(\"Making a phone call\")\n",
    "\n",
    "class Computer:\n",
    "    def browse(self):\n",
    "        print(\"Browsing the web\")\n",
    "\n",
    "class Smartphone(Phone, Computer):\n",
    "    def touch_screen(self):\n",
    "        print(\"Using touch screen\")\n",
    "\n",
    "my_phone = Smartphone()\n",
    "my_phone.call()       # Inherited from Phone\n",
    "my_phone.browse()     # Inherited from Computer\n",
    "my_phone.touch_screen()\n"
   ]
  },
  {
   "cell_type": "markdown",
   "id": "d6f6159f",
   "metadata": {},
   "source": [
    "**3. Explain the terms \"base class\" and \"derived class\" in the context of inheritance.**\n",
    "\n",
    "Answer:\n",
    "\n",
    "**Base Class:** *It is also known as a parent class or superclass, a base class is the class whose attributes and methods are to be inherited by other classes. It serves as a blueprint for creating derived classes.It is not required to inherit from any other class and is at the top of the inheritance hierarchy.*\n",
    "   \n",
    "**Example:** *In a hierarchy of animals, a \"Animal\" class can be a base class that defines common attributes and methods for all animals.*\n",
    "\n",
    "**Derived Class:** *Also known as a child class or subclass, a derived class is a class that inherits attributes and methods from a base class.It specializes or extends the functionality of the base class by adding its attributes and methods or by modifying the inherited ones.A derived class can inherit from only one base class in single inheritance or from multiple base classes in multiple inheritance.*\n",
    "\n",
    "**Example:** *In the animal hierarchy, \"Dog\" and \"Cat\" can be derived classes that inherit common attributes and methods from the \"Animal\" base class but also have their unique features.*"
   ]
  },
  {
   "cell_type": "markdown",
   "id": "fb3d0f4f",
   "metadata": {},
   "source": [
    "**4. What is the significance of the \"protected\" access modifier in inheritance? How does it differ from \"private\" and \"public\" modifiers?**\n",
    "\n",
    "*Answer:In many object-oriented programming languages (e.g., Python, C++, Java), the `protected` access modifier is used to restrict the visibility of class members to the class itself and its derived classes.*\n",
    "\n",
    "*Members with the `protected` access modifier are not directly accessible from outside the class, but they can be accessed within the class and its subclasses (derived classes).*\n",
    "\n",
    "*`Protected` members of a base class are inherited by derived classes and remain accessible in the derived class.*\n",
    "\n",
    "*Members with the `private` access modifier are not directly accessible from outside the class. They are encapsulated within the class and can only be accessed through class methods.*\n",
    "\n",
    "*`Private` members of a base class are not inherited by derived classes. They are effectively hidden from derived classes.*\n",
    "\n",
    "*Members (attributes and methods) with the `public` access modifier are accessible from anywhere, both within and outside the class.*\n",
    "\n",
    "*In the context of inheritance, `public` members of a base class are inherited by derived classes and remain accessible in the derived class.*\n",
    "\n",
    "**Examples:**"
   ]
  },
  {
   "cell_type": "code",
   "execution_count": 4,
   "id": "2bbcd433",
   "metadata": {},
   "outputs": [
    {
     "name": "stdout",
     "output_type": "stream",
     "text": [
      "10\n"
     ]
    }
   ],
   "source": [
    "# Public Access Modifier\n",
    "\n",
    "class Base:\n",
    "    public_var = 10\n",
    "\n",
    "class Derived(Base):\n",
    "    def display(self):\n",
    "        print(self.public_var)\n",
    "\n",
    "d = Derived()\n",
    "d.display()  # Accessing public_var from the base class"
   ]
  },
  {
   "cell_type": "code",
   "execution_count": 1,
   "id": "5bb53c50",
   "metadata": {},
   "outputs": [],
   "source": [
    "# Private Access Modifier\n",
    "\n",
    "class Base:\n",
    "    __private_var = 10\n",
    "\n",
    "class Derived(Base):\n",
    "    def display(self):\n",
    "        print(self.__private_var)  # Error: Cannot access __private_var from the base class\n",
    "                                   # This will result in an AttributeError"
   ]
  },
  {
   "cell_type": "code",
   "execution_count": 2,
   "id": "63f95afb",
   "metadata": {},
   "outputs": [],
   "source": [
    "# Protected Access Modifier\n",
    "        \n",
    "class Base:\n",
    "    _protected_var = 10\n",
    "\n",
    "class Derived(Base):\n",
    "    def display(self):\n",
    "        print(self._protected_var)  # Accessing _protected_var from the base class,\n",
    "                                    #This is technically allowed but discouraged"
   ]
  },
  {
   "cell_type": "markdown",
   "id": "54eed600",
   "metadata": {},
   "source": [
    "**5.What is the purpose of the \"super\" keyword in inheritance? Provide an example.**\n",
    "\n",
    "*Answer: The `super` keyword is used in inheritance to call methods from the parent class (base class) within a method of the child class (derived class).*\n",
    "\n",
    "*It is often used when the child class overrides a method from the parent class but still wants to execute the overridden method's code. This helps in achieving method overriding while ensuring that the parent class's behavior is not completely replaced.*\n",
    "\n",
    "*In this **example**, the `super` keyword is used to access and call the parent class's constructor and method from within the child class.*"
   ]
  },
  {
   "cell_type": "code",
   "execution_count": 3,
   "id": "5d201bac",
   "metadata": {},
   "outputs": [],
   "source": [
    "class Employee:\n",
    "    def __init__(self, name, age):\n",
    "        self.name=name\n",
    "        self.age=age\n",
    "        \n",
    "    def display_info(self):\n",
    "        print(f\"Name: {self.name}\\nAge: {self.age}\")\n",
    "        \n",
    "class Staff(Employee):\n",
    "    def __init__(self,name,age,profile):\n",
    "        super().__init__(name,age)\n",
    "        self.profile=profile\n",
    "        \n",
    "    def display_info(self):\n",
    "        super().display_info()\n",
    "        print(f\"Profile: {self.profile}\\n\")\n",
    "        \n",
    "class Manager(Employee):\n",
    "    def __init__(self,name,age,salary):\n",
    "        super().__init__(name,age)\n",
    "        self.salary=salary\n",
    "        \n",
    "    def display_info(self):\n",
    "        super().display_info()\n",
    "        print(f\"Salary: {self.salary}\")"
   ]
  },
  {
   "cell_type": "code",
   "execution_count": 4,
   "id": "2df4ff43",
   "metadata": {},
   "outputs": [
    {
     "name": "stdout",
     "output_type": "stream",
     "text": [
      "Name: Krish Naik\n",
      "Age: 26\n",
      "Profile: Machine Learning\n",
      "\n",
      "Name: Abhinav\n",
      "Age: 25\n",
      "Profile: Team lead\n",
      "\n"
     ]
    }
   ],
   "source": [
    "staff1=Staff(\"Krish Naik\", 26, \"Machine Learning\")\n",
    "staff2=Staff(\"Abhinav\", 25, \"Team lead\")\n",
    "staff1.display_info()\n",
    "staff2.display_info()"
   ]
  },
  {
   "cell_type": "code",
   "execution_count": 5,
   "id": "709f9190",
   "metadata": {},
   "outputs": [
    {
     "name": "stdout",
     "output_type": "stream",
     "text": [
      "Name: Anuj\n",
      "Age: 22\n",
      "Salary: 100000\n"
     ]
    }
   ],
   "source": [
    "manager1=Manager(\"Anuj\",22,100000)\n",
    "manager1.display_info()"
   ]
  },
  {
   "cell_type": "markdown",
   "id": "9bf75e23",
   "metadata": {},
   "source": [
    "**6. Create a base class called \"Vehicle\" with attributes like \"make\", \"model\", and \"year\". Then, create a derived class called \"Car\" that inherits from \"Vehicle\" and adds an attribute called \"fuel_type\". Implement appropriate methods in both classes.**"
   ]
  },
  {
   "cell_type": "code",
   "execution_count": 6,
   "id": "dec632c4",
   "metadata": {},
   "outputs": [],
   "source": [
    "#Parent class\n",
    "class Vehicle:\n",
    "    def __init__(self,make,model,year):\n",
    "        self.make=make\n",
    "        self.model=model\n",
    "        self.year=year\n",
    "        \n",
    "    def display_info(self):\n",
    "        print(f\"Make {self.make} {self.model} which is introduced in year {self.year}\")\n",
    "        \n",
    "#Derived class\n",
    "class Car(Vehicle):\n",
    "    def __init__(self,make,model,year,fuel_type):\n",
    "        super().__init__(make,model,year)\n",
    "        self.fuel_type=fuel_type\n",
    "        \n",
    "    def display_info(self):\n",
    "        super().display_info()\n",
    "        print(f\"Fuel type is {self.fuel_type}\")"
   ]
  },
  {
   "cell_type": "code",
   "execution_count": 7,
   "id": "8dead352",
   "metadata": {},
   "outputs": [],
   "source": [
    "vehicle1=Vehicle(\"BMW\",\"X7\",2019)"
   ]
  },
  {
   "cell_type": "code",
   "execution_count": 8,
   "id": "faa12db3",
   "metadata": {},
   "outputs": [
    {
     "name": "stdout",
     "output_type": "stream",
     "text": [
      "Make BMW X7 which is introduced in year 2019\n"
     ]
    }
   ],
   "source": [
    "vehicle1.display_info()"
   ]
  },
  {
   "cell_type": "code",
   "execution_count": 9,
   "id": "0805c2f2",
   "metadata": {},
   "outputs": [
    {
     "name": "stdout",
     "output_type": "stream",
     "text": [
      "Make KIA Seltos which is introduced in year 2019\n",
      "Fuel type is Petrol\n"
     ]
    }
   ],
   "source": [
    "car1=Car(\"KIA\",\"Seltos\",2019,\"Petrol\")\n",
    "car1.display_info()"
   ]
  },
  {
   "cell_type": "markdown",
   "id": "99e2d24f",
   "metadata": {},
   "source": [
    "**7. Create a base class called \"Employee\" with attributes like \"name\" and \"salary.\" Derive two classes, \"Manager\" and \"Developer,\" from \"Employee.\" Add an additional attribute called \"department\" for the \"Manager\" class and \"programming_language\" for the \"Developer\" class.**"
   ]
  },
  {
   "cell_type": "code",
   "execution_count": 10,
   "id": "dde438af",
   "metadata": {},
   "outputs": [],
   "source": [
    "#Parent class\n",
    "class Employee:\n",
    "    def __init__(self,name,salary):\n",
    "        self.name=name\n",
    "        self.salary=salary\n",
    "\n",
    "    def display_info(self):\n",
    "        print(f\"Name: {self.name}\\nSalary: {self.salary}\")\n",
    "        \n",
    "#Derived class\n",
    "class Manager(Employee):\n",
    "    def __init__(self,name,salary,department):\n",
    "        super().__init__(name,salary)\n",
    "        self.department= department\n",
    "    \n",
    "    def display_info(self):\n",
    "        super().display_info()\n",
    "        print(f\"Department: {self.department}\")"
   ]
  },
  {
   "cell_type": "code",
   "execution_count": 11,
   "id": "579289f8",
   "metadata": {},
   "outputs": [
    {
     "name": "stdout",
     "output_type": "stream",
     "text": [
      "Name: Abhinav Yadav\n",
      "Salary: 100000\n"
     ]
    }
   ],
   "source": [
    "employee1=Employee(\"Abhinav Yadav\", 100000)\n",
    "employee1.display_info()"
   ]
  },
  {
   "cell_type": "code",
   "execution_count": 12,
   "id": "59c291ef",
   "metadata": {},
   "outputs": [
    {
     "name": "stdout",
     "output_type": "stream",
     "text": [
      "Name: Yogi Rao\n",
      "Salary: 500000\n",
      "Department: CEO\n"
     ]
    }
   ],
   "source": [
    "manager1=Manager(\"Yogi Rao\",500000, \"CEO\")\n",
    "manager1.display_info()"
   ]
  },
  {
   "cell_type": "markdown",
   "id": "fc690d71",
   "metadata": {},
   "source": [
    "**8.Design a base class called \"Shape\" with attributes like \"colour\" and \"border_width.\" Create derived classes, \"Rectangle\" and \"Circle,\" that inherit from \"Shape\" and add specific attributes like \"length\" and \"width\" for the \"Rectangle\" class and \"radius\" for the \"Circle\" class.**"
   ]
  },
  {
   "cell_type": "code",
   "execution_count": 13,
   "id": "93b56ece",
   "metadata": {},
   "outputs": [],
   "source": [
    "#Base class\n",
    "class Shape:\n",
    "    def __init__(self,colour,border_width):\n",
    "        self.colour=colour\n",
    "        self.border_width=border_width\n",
    "        \n",
    "    def display(self):\n",
    "        print(f\"Colour: {self.colour}\\nBorder width: {self.border_width}\")\n",
    "     \n",
    "    \n",
    "#Derived class  \n",
    "class Rectangle(Shape):\n",
    "    def __init__(self,colour,border_width,length,width):\n",
    "        super().__init__(colour,border_width)\n",
    "        self.length=length\n",
    "        self.width=width\n",
    "        \n",
    "    def display(self):\n",
    "        super().display()\n",
    "        print(f\"Length: {self.length}\\nWidth: {self.width}\\n\")\n",
    "        \n",
    "class Circle(Shape):\n",
    "    def __init__(self,colour,border_width,radius):\n",
    "        super().__init__(colour,border_width)\n",
    "        self.radius=radius\n",
    "        \n",
    "    def display(self):\n",
    "        super().display()\n",
    "        print(f\"Radius: {self.radius}\\n\")"
   ]
  },
  {
   "cell_type": "code",
   "execution_count": 14,
   "id": "625589b7",
   "metadata": {},
   "outputs": [
    {
     "name": "stdout",
     "output_type": "stream",
     "text": [
      "Colour: Green\n",
      "Border width: 9.0\n"
     ]
    }
   ],
   "source": [
    "shape1=Shape(\"Green\",9.0)\n",
    "shape1.display()"
   ]
  },
  {
   "cell_type": "code",
   "execution_count": 15,
   "id": "cd2e22b3",
   "metadata": {},
   "outputs": [
    {
     "name": "stdout",
     "output_type": "stream",
     "text": [
      "Colour: Blue\n",
      "Border width: 9.0\n",
      "Length: 6\n",
      "Width: 3\n",
      "\n",
      "Colour: Red\n",
      "Border width: 2\n",
      "Radius: 6\n",
      "\n"
     ]
    }
   ],
   "source": [
    "rectangle1=Rectangle(\"Blue\",9.0,6,3)\n",
    "rectangle1.display()\n",
    "circle1=Circle(\"Red\",2,6)\n",
    "circle1.display()"
   ]
  },
  {
   "cell_type": "markdown",
   "id": "026e2a40",
   "metadata": {},
   "source": [
    "**9. Create a base class called \"Device\" with attributes like \"brand\" and \"model.\" Derive two classes, \"Phone\" and \"Tablet,\" from \"Device.\" Add specific attributes like \"screen_size\" for the \"Phone\" class and \"battery_capacity\" for the \"Tablet\" class.**"
   ]
  },
  {
   "cell_type": "code",
   "execution_count": 16,
   "id": "9caeabca",
   "metadata": {},
   "outputs": [],
   "source": [
    "#Base class\n",
    "class Device:\n",
    "    def __init__(self,brand,model):\n",
    "        self.brand=brand\n",
    "        self.model=model\n",
    "        \n",
    "    def display(self):\n",
    "        print(f\"Brand: {self.brand}\\nModel: {self.model}\")\n",
    "        \n",
    "        \n",
    "#Derived classes\n",
    "class Phone(Device):\n",
    "    def __init__(self,brand,model,screen_size):\n",
    "        super().__init__(brand,model)\n",
    "        self.screen_size=screen_size\n",
    "              \n",
    "    def display(self):\n",
    "        super().display()\n",
    "        print(f\"Screen size: {self.screen_size}\\n\")\n",
    "        \n",
    "class Tablet(Device):\n",
    "    def __init__(self,brand,model,battery_capacity):\n",
    "        super().__init__(brand,model)\n",
    "        self.battery_capacity=battery_capacity\n",
    "        \n",
    "    def display(self):\n",
    "        super().display()\n",
    "        print(f\"Battery capacity: {self.battery_capacity}\\n\")        "
   ]
  },
  {
   "cell_type": "code",
   "execution_count": 17,
   "id": "f119366b",
   "metadata": {},
   "outputs": [
    {
     "name": "stdout",
     "output_type": "stream",
     "text": [
      "Brand: Apple\n",
      "Model: iPhone 13\n",
      "Screen size: 5.5 inch\n",
      "\n",
      "Brand: Apple\n",
      "Model: A6\n",
      "Battery capacity: 4700 mAh\n",
      "\n"
     ]
    }
   ],
   "source": [
    "phone1=Phone(\"Apple\", \"iPhone 13\", \"5.5 inch\")\n",
    "tablet1=Tablet(\"Apple\",\"A6\",\"4700 mAh\")\n",
    "phone1.display()\n",
    "tablet1.display()"
   ]
  },
  {
   "cell_type": "markdown",
   "id": "9e5ea835",
   "metadata": {},
   "source": [
    "**10. Create a base class called \"BankAccount\" with attributes like \"account_number\" and \"balance.\" Derive two classes, \"SavingsAccount\" and \"CheckingAccount,\" from \"BankAccount.\" Add specific methods like \"calculate_interest\" for the \"SavingsAccount\" class and \"deduct_fees\" for the \"CheckingAccount\" class.**"
   ]
  },
  {
   "cell_type": "code",
   "execution_count": 18,
   "id": "69481bae",
   "metadata": {},
   "outputs": [],
   "source": [
    "#Base class\n",
    "class BankAccount:\n",
    "    def __init__(self,account_number,balance):\n",
    "        self.account_number=account_number\n",
    "        self.balance=balance\n",
    "        \n",
    "    def display(self):\n",
    "        print(f\"Account number: {self.account_number}\\nBalance: {self.balance}\")\n",
    "        \n",
    "#Derived classes\n",
    "class SavingsAccount(BankAccount):\n",
    "    def __init__(self,account_number,balance):\n",
    "        super().__init__(account_number,balance)\n",
    "        \n",
    "    def calculate_interest(self,interest):\n",
    "        self.balance=self.balance+self.balance*(interest/100)\n",
    "        super().display()\n",
    "        \n",
    "class CheckingAccount(BankAccount):\n",
    "    def __init__(self,account_number,balance):\n",
    "        super().__init__(account_number,balance)\n",
    "        \n",
    "    def deduct_fees(self,deduction):\n",
    "        self.balance=self.balance-deduction\n",
    "        super().display()"
   ]
  },
  {
   "cell_type": "code",
   "execution_count": 19,
   "id": "be15dcc6",
   "metadata": {},
   "outputs": [
    {
     "name": "stdout",
     "output_type": "stream",
     "text": [
      "Account number: 1945210012114\n",
      "Balance: 2137500.0\n"
     ]
    }
   ],
   "source": [
    "account1=SavingsAccount(1945210012114, 1900000)\n",
    "account1.calculate_interest(12.5)"
   ]
  },
  {
   "cell_type": "code",
   "execution_count": 20,
   "id": "338fb292",
   "metadata": {},
   "outputs": [
    {
     "name": "stdout",
     "output_type": "stream",
     "text": [
      "Account number: 1665000101099628\n",
      "Balance: 40000\n"
     ]
    }
   ],
   "source": [
    "account2=CheckingAccount(1665000101099628,90000)\n",
    "account2.deduct_fees(50000)"
   ]
  }
 ],
 "metadata": {
  "kernelspec": {
   "display_name": "Python 3 (ipykernel)",
   "language": "python",
   "name": "python3"
  },
  "language_info": {
   "codemirror_mode": {
    "name": "ipython",
    "version": 3
   },
   "file_extension": ".py",
   "mimetype": "text/x-python",
   "name": "python",
   "nbconvert_exporter": "python",
   "pygments_lexer": "ipython3",
   "version": "3.10.9"
  }
 },
 "nbformat": 4,
 "nbformat_minor": 5
}
