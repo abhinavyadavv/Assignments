{
 "cells": [
  {
   "cell_type": "markdown",
   "id": "842ca355",
   "metadata": {},
   "source": [
    "**1. What is the role of try and exception block?**\n",
    "\n",
    "*Answer:`Try` and `Except` clauses are used in python program to handle the errors.*\n",
    "\n",
    "*The `try` block is used to enclose the code that may raise an exception or error.*\n",
    "\n",
    "*When the code inside the try block executes, Python monitors it for any exceptions.If an exception occurs within the try block, Python immediately jumps to the corresponding except block without executing the remaining code in the try block.*\n",
    "\n",
    "*The `except` block is used where we specify how to handle the exception that occurred in the try block.*\n",
    "\n",
    "*When an exception occurs in the try block, Python checks the except blocks sequentially to find one that matches the type of the exception.*\n",
    "\n",
    "*Beside try and except block, we have `else` and `finally` blocks also to effectively handle exceptions*\n",
    "\n",
    "**Example:**"
   ]
  },
  {
   "cell_type": "code",
   "execution_count": 15,
   "id": "a831fd46",
   "metadata": {},
   "outputs": [
    {
     "name": "stdout",
     "output_type": "stream",
     "text": [
      "You have divided the number by zero!\n"
     ]
    }
   ],
   "source": [
    "try:\n",
    "    n=3\n",
    "    d=0\n",
    "    result=n/d\n",
    "except ZeroDivisionError:\n",
    "    print(\"You have divided the number by zero!\")\n",
    "else:\n",
    "    print(result)"
   ]
  },
  {
   "cell_type": "markdown",
   "id": "2301cb3d",
   "metadata": {},
   "source": [
    "**2.What is the syntax for a basic try-except block?**\n",
    "\n",
    "*Answer:The syntax for a basic try-except block is*\n",
    "\n",
    "`try:`\n",
    "\n",
    "    # Code that may raise an exception\n",
    "    \n",
    "`except:`\n",
    "\n",
    "    # Code to handle the exception\n",
    "    \n",
    "*The try block is used to enclose the code that may raise an exception or error.\n",
    "When the code inside the try block executes, Python monitors it for any exceptions.If an exception occurs within the try block, Python immediately jumps to the corresponding except block without executing the remaining code in the try block.*\n",
    "\n",
    "*The except block is used where we specify how to handle the exception that occurred in the try block.\n",
    "When an exception occurs in the try block, Python checks the except blocks sequentially to find one that matches the type of the exception.*\n",
    "\n",
    "**Example:**"
   ]
  },
  {
   "cell_type": "code",
   "execution_count": 14,
   "id": "36ca5b9e",
   "metadata": {},
   "outputs": [
    {
     "name": "stdout",
     "output_type": "stream",
     "text": [
      "You have divided the number by zero!\n"
     ]
    }
   ],
   "source": [
    "try:\n",
    "    n=3\n",
    "    d=0\n",
    "    result=n/d\n",
    "except ZeroDivisionError:\n",
    "    print(\"You have divided the number by zero!\")\n",
    "else:\n",
    "    print(result)"
   ]
  },
  {
   "cell_type": "markdown",
   "id": "65cd7ea7",
   "metadata": {},
   "source": [
    "**3.What happens if an exception occurs inside a try block and there is no matching except block?**\n",
    "\n",
    "*Answer:If an exception occurs inside a try block and there is no matching except block, the exception will propagate up the call stack until it finds a suitable exception handler.* \n",
    "\n",
    "*If no such handler is found in the current function or any calling functions, the program will terminate, and an unhandled exception error will be raised.*\n",
    "\n",
    "*It's important to handle exceptions appropriately in your code to prevent unexpected program termination and to provide a more graceful way of handling errors.* \n",
    "\n",
    "*This often involves using a generic except block to catch and handle unexpected exceptions or logging errors for later analysis.*"
   ]
  },
  {
   "cell_type": "code",
   "execution_count": 13,
   "id": "2b0932e3",
   "metadata": {},
   "outputs": [
    {
     "ename": "SyntaxError",
     "evalue": "incomplete input (3851901275.py, line 3)",
     "output_type": "error",
     "traceback": [
      "\u001b[1;36m  Cell \u001b[1;32mIn[13], line 3\u001b[1;36m\u001b[0m\n\u001b[1;33m    # No except block to catch ZeroDivisionError\u001b[0m\n\u001b[1;37m                                                ^\u001b[0m\n\u001b[1;31mSyntaxError\u001b[0m\u001b[1;31m:\u001b[0m incomplete input\n"
     ]
    }
   ],
   "source": [
    "try:\n",
    "    result = 10 / 0  # This will raise a ZeroDivisionError\n",
    "# No except block to catch ZeroDivisionError\n"
   ]
  },
  {
   "cell_type": "markdown",
   "id": "253d0715",
   "metadata": {},
   "source": [
    "**4. What is the difference between using a bare except block and specifying a specific exception type?**\n",
    "\n",
    "*Answer: Using a bare `except` block and specifying a specific exception type are two different approaches to handling exceptions in programming. The key difference between them lies in their level of specificity and the control they provide over which exceptions are caught and how they are handled.*\n",
    "\n",
    "*A bare `except` block is used to catch and handle any exception that occurs within the associated try block. It doesn't specify a particular exception type, so it will catch all exceptions, including built-in exceptions and user-defined exceptions.*\n",
    "\n",
    "*When we specify a specific exception type in an `except` block, we are telling the program to catch only exceptions of that type. This allows us to handle different exceptions in different ways and provides more precise control over error handling.*\n",
    "\n",
    "**Example of a bare `except` block in Python:**"
   ]
  },
  {
   "cell_type": "code",
   "execution_count": 12,
   "id": "03db32d1",
   "metadata": {},
   "outputs": [
    {
     "name": "stdout",
     "output_type": "stream",
     "text": [
      "An error occurred.\n"
     ]
    }
   ],
   "source": [
    "try:\n",
    "    result = 10 / 0   #code that might cause error\n",
    "except:\n",
    "    # This bare except block catches all exceptions\n",
    "    print(\"An error occurred.\")"
   ]
  },
  {
   "cell_type": "markdown",
   "id": "2318d76c",
   "metadata": {},
   "source": [
    "**Example of specifying a specific exception type in Python:**"
   ]
  },
  {
   "cell_type": "code",
   "execution_count": 11,
   "id": "469c35fa",
   "metadata": {},
   "outputs": [
    {
     "name": "stdout",
     "output_type": "stream",
     "text": [
      "Division by zero error occurred.\n"
     ]
    }
   ],
   "source": [
    "try:\n",
    "    result = 10 / 0\n",
    "except ZeroDivisionError:\n",
    "    # This except block catches only ZeroDivisionError\n",
    "    print(\"Division by zero error occurred.\")"
   ]
  },
  {
   "cell_type": "markdown",
   "id": "b922bca4",
   "metadata": {},
   "source": [
    "**5.Can you have nested try-except blocks in Python? If yes, then give an example.**\n",
    "\n",
    "*Answer: Yes, we can have nested try-except blocks in Python. This means that we can place one try-except block inside another. This allows us to handle exceptions at different levels of our code, providing more granular error handling.*\n",
    "\n",
    "*In the below example, we have an outer try-except block that handles exceptions related to user input and division by zero in the outer try block. Inside the outer try block, there is a nested try-except block that handles exceptions related to list indexing and division by zero in the inner try block.*\n",
    "\n",
    "*Depending on the user's input, the program can raise different exceptions at different levels, and the appropriate except blocks will catch and handle those exceptions. The \"else\" blocks indicate code that runs when no exceptions occur in the respective try blocks.*"
   ]
  },
  {
   "cell_type": "code",
   "execution_count": 7,
   "id": "bf0dd99a",
   "metadata": {},
   "outputs": [
    {
     "name": "stdout",
     "output_type": "stream",
     "text": [
      "Enter a number: 0\n",
      "Division by zero in the outer try block.\n",
      "Program continues...\n"
     ]
    }
   ],
   "source": [
    "try:\n",
    "    # Outer try block\n",
    "    num = int(input(\"Enter a number: \"))\n",
    "    result = 10 / num\n",
    "\n",
    "    try:\n",
    "        # Nested try block\n",
    "        index = int(input(\"Enter an index: \"))\n",
    "        myList = [1, 2, 3]\n",
    "        value = myList[index]\n",
    "    except IndexError:\n",
    "        print(\"Index out of range.\")\n",
    "    except ValueError:\n",
    "        print(\"Invalid index input.\")\n",
    "    except ZeroDivisionError:\n",
    "        print(\"Division by zero in the inner try block.\")\n",
    "    else:\n",
    "        print(\"No exceptions occurred in the inner try block.\")\n",
    "\n",
    "except ZeroDivisionError:\n",
    "    print(\"Division by zero in the outer try block.\")\n",
    "except ValueError:\n",
    "    print(\"Invalid number input in the outer try block.\")\n",
    "else:\n",
    "    print(\"No exceptions occurred in the outer try block.\")\n",
    "\n",
    "print(\"Program continues...\")\n"
   ]
  },
  {
   "cell_type": "markdown",
   "id": "0d70ee40",
   "metadata": {},
   "source": [
    "**6. Can we use multiple exception blocks, if yes then give an example.**\n",
    "\n",
    "*Answer: Yes, we can use multiple exception blocks. Multiple exceptions allows us to handle multiple errors at the same time by preventing the code from crashing.*\n",
    "\n",
    "*In the below example The try block attempts to perform several operations that may raise exceptions, including division by zero, invalid list indexing, and invalid number input.*\n",
    "\n",
    "*Each except block is associated with a specific type of exception:*\n",
    "\n",
    "*The ValueError block handles invalid number input.*\n",
    "*The ZeroDivisionError block handles division by zero.*\n",
    "*The IndexError block handles invalid list indexing.*\n",
    "*The else block contains code to run if no exceptions occurred within the try block.*\n",
    "\n",
    "*The finally block contains code that will always run, regardless of whether exceptions occurred or not.*"
   ]
  },
  {
   "cell_type": "code",
   "execution_count": 9,
   "id": "6b0e8f11",
   "metadata": {},
   "outputs": [
    {
     "name": "stdout",
     "output_type": "stream",
     "text": [
      "Enter a number: 0\n",
      "Cannot divide by zero.\n",
      "Execution finished.\n",
      "Program continues...\n"
     ]
    }
   ],
   "source": [
    "try:\n",
    "    # Attempt to perform some operations that may raise exceptions\n",
    "    num = int(input(\"Enter a number: \"))\n",
    "    result = 10 / num\n",
    "    myList = [1, 2, 3]\n",
    "    index = int(input(\"Enter an index: \"))\n",
    "    value = myList[index]\n",
    "except ValueError:\n",
    "    # Handle the ValueError (invalid input)\n",
    "    print(\"Invalid input. Please enter a valid number.\")\n",
    "except ZeroDivisionError:\n",
    "    # Handle the ZeroDivisionError (division by zero)\n",
    "    print(\"Cannot divide by zero.\")\n",
    "except IndexError:\n",
    "    # Handle the IndexError (invalid list index)\n",
    "    print(\"Index out of range.\")\n",
    "else:\n",
    "    # Code to run if no exceptions occurred\n",
    "    print(\"No exceptions occurred.\")\n",
    "finally:\n",
    "    # Code to run regardless of whether exceptions occurred or not\n",
    "    print(\"Execution finished.\")\n",
    "\n",
    "print(\"Program continues...\")\n"
   ]
  },
  {
   "cell_type": "markdown",
   "id": "7e66c06d",
   "metadata": {},
   "source": [
    "**7. Write the reason due to which following errors are raised:**\n",
    "\n",
    "**a. EOFError**\n",
    "\n",
    "**b. FloatingPointError**\n",
    "\n",
    "**c. IndexError**\n",
    "\n",
    "**d. MemoryError**\n",
    "\n",
    "**e. OverflowError**\n",
    "\n",
    "**f. TabError**\n",
    "\n",
    "**g. ValueError**\n",
    "\n",
    "*Answer:*\n",
    "\n",
    "*a. `EOFError` (End of File Error): An `EOFError` is raised when an input operation reaches the end of a file (or input stream) unexpectedly. This typically happens when you are reading data from a file or standard input and you try to read more data than is available, or you reach the end of the file unexpectedly.*\n",
    "\n",
    "**Example:** This error occurs when you try to read beyond the end of a file.\n",
    "\n",
    "          try:\n",
    "             with open(\"nonexistent_file.txt\", \"r\") as file:\n",
    "                content = file.read()\n",
    "          except EOFError:\n",
    "             print(\"Reached the end of the file unexpectedly.\")\n",
    "\n",
    "\n",
    "*b. `FloatingPointError`: A `FloatingPointError` is raised when an error occurs during a floating-point operation. This can happen when you perform invalid floating-point operations, such as dividing by zero or encountering an undefined result in a mathematical operation.*\n",
    "\n",
    "**Example:** This error occurs when there is an issue with floating-point arithmetic.\n",
    "             \n",
    "             result = 1.0 / 0.0  # This will raise a FloatingPointError\n",
    "\n",
    "\n",
    "*c. `IndexError`: An `IndexError` is raised when you try to access an index of a sequence (e.g., a list, tuple, or string) that is out of range. This typically occurs when you attempt to access an element using an index that is greater than or less than the valid index range of the sequence.*\n",
    "\n",
    "**Example:** This error occurs when you try to access an index that is out of range for a sequence (e.g., list, tuple, string).\n",
    "            \n",
    "            my_list = [1, 2, 3]\n",
    "            element = my_list[5]  # This will raise an IndexError\n",
    "\n",
    "\n",
    "\n",
    "*d. `MemoryError`: A `MemoryError` is raised when the Python interpreter runs out of memory while trying to allocate an object or perform some memory-intensive operation. This error can occur when your program consumes too much memory, and the system cannot allocate more memory for your application.*\n",
    "\n",
    "**Example:** This error occurs when the program runs out of available memory.\n",
    "\n",
    "          # Attempting to allocate a very large list that exceeds available memory\n",
    "          big_list = [0] * 999999999999999999\n",
    "\n",
    "\n",
    "*e. `OverflowError`: An `OverflowError` is raised when a numeric operation exceeds the limits of the data type. This occurs when you try to store a value that is too large for the data type you are using, such as trying to represent a number beyond the maximum value that can be stored.*\n",
    "\n",
    "**Example:** This error occurs when a mathematical operation exceeds the limits of the data type.\n",
    "\n",
    "             import math\n",
    "             result = math.exp(1000)  # This will raise an OverflowError\n",
    "\n",
    "\n",
    "*f. `TabError`: A `TabError` is raised when there is an issue with the indentation in your Python code. This typically happens when you mix tabs and spaces for indentation, and Python cannot determine the correct indentation level.*\n",
    "\n",
    "**Example:** This error occurs when there is an issue with the indentation of code.\n",
    "\n",
    "            def my_function():\n",
    "            print(\"Indented improperly\")  # This will raise a TabError\n",
    "\n",
    "\n",
    "*g. `ValueError`: A `ValueError` is raised when you try to perform an operation on a value of the correct data type, but the value itself is not appropriate for that operation. For example, trying to convert a non-numeric string to an integer using `int()` would raise a `ValueError`.*\n",
    "\n",
    "**Example:** This error occurs when a function receives an argument of the correct data type but an inappropriate value.\n",
    "\n",
    "            try:\n",
    "                num = int(\"abc\")  # This will raise a ValueError\n",
    "            except ValueError:\n",
    "                print(\"Invalid conversion from string to integer.\")\n"
   ]
  },
  {
   "cell_type": "markdown",
   "id": "bc769f4f",
   "metadata": {},
   "source": [
    "**8. Write code for the following given scenario and add try-exception block to it.**\n",
    "\n",
    "**a. Program to divide two numbers**"
   ]
  },
  {
   "cell_type": "code",
   "execution_count": 4,
   "id": "42a8e156",
   "metadata": {},
   "outputs": [
    {
     "name": "stdout",
     "output_type": "stream",
     "text": [
      "Enter the numerator:3\n",
      "Enter the denominator:0\n",
      "You have divided the number by zero.\n"
     ]
    }
   ],
   "source": [
    "num1=int(input(\"Enter the numerator:\"))\n",
    "num2=int(input(\"Enter the denominator:\"))\n",
    "try:\n",
    "    result=num1/num2\n",
    "except ZeroDivisionError:\n",
    "    print(\"You have divided the number by zero.\")"
   ]
  },
  {
   "cell_type": "markdown",
   "id": "4181fb7d",
   "metadata": {},
   "source": [
    "**b. Program to convert a string to an integer**"
   ]
  },
  {
   "cell_type": "code",
   "execution_count": 5,
   "id": "c9f26c6c",
   "metadata": {},
   "outputs": [
    {
     "name": "stdout",
     "output_type": "stream",
     "text": [
      "Value Error occured!\n"
     ]
    }
   ],
   "source": [
    "name=\"Abhinav Yadav\"\n",
    "try:\n",
    "    int(name)\n",
    "except ValueError:\n",
    "    print(\"Value Error occured!\")"
   ]
  },
  {
   "cell_type": "markdown",
   "id": "2dd14ad9",
   "metadata": {},
   "source": [
    "**c. Program to access an element in a list**"
   ]
  },
  {
   "cell_type": "code",
   "execution_count": 6,
   "id": "f1f0d132",
   "metadata": {},
   "outputs": [
    {
     "name": "stdout",
     "output_type": "stream",
     "text": [
      "You have entered the wrong index!\n",
      "Please enter the index in the range only.\n"
     ]
    }
   ],
   "source": [
    "list=[1,2,3,4,5,6,7,8]\n",
    "try:\n",
    "    list[9]\n",
    "except IndexError:\n",
    "    print(\"You have entered the wrong index!\")\n",
    "    print(\"Please enter the index in the range only.\")"
   ]
  },
  {
   "cell_type": "markdown",
   "id": "3a135d5f",
   "metadata": {},
   "source": [
    "**d. Program to handle a specific exception**"
   ]
  },
  {
   "cell_type": "code",
   "execution_count": 7,
   "id": "4c1a9239",
   "metadata": {},
   "outputs": [
    {
     "name": "stdout",
     "output_type": "stream",
     "text": [
      "Key is missing. Enter a valid key.\n"
     ]
    }
   ],
   "source": [
    "dict={\"name\":\"nancy\",\"age\":22,\"grade\":\"A++\"}\n",
    "try:\n",
    "    dict[\"city\"]\n",
    "except KeyError:\n",
    "    print(\"Key is missing. Enter a valid key.\")"
   ]
  },
  {
   "cell_type": "markdown",
   "id": "0746aa0c",
   "metadata": {},
   "source": [
    "**e. Program to handle any exception**"
   ]
  },
  {
   "cell_type": "code",
   "execution_count": 8,
   "id": "9bdb2e87",
   "metadata": {},
   "outputs": [
    {
     "name": "stdout",
     "output_type": "stream",
     "text": [
      "NameError is there.\n"
     ]
    }
   ],
   "source": [
    "try:\n",
    "    side=6\n",
    "    print(area)\n",
    "except:\n",
    "    print(\"NameError is there.\")"
   ]
  }
 ],
 "metadata": {
  "kernelspec": {
   "display_name": "Python 3 (ipykernel)",
   "language": "python",
   "name": "python3"
  },
  "language_info": {
   "codemirror_mode": {
    "name": "ipython",
    "version": 3
   },
   "file_extension": ".py",
   "mimetype": "text/x-python",
   "name": "python",
   "nbconvert_exporter": "python",
   "pygments_lexer": "ipython3",
   "version": "3.10.9"
  }
 },
 "nbformat": 4,
 "nbformat_minor": 5
}
