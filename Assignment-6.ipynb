{
 "cells": [
  {
   "cell_type": "markdown",
   "id": "0ac28e2f",
   "metadata": {},
   "source": [
    "**Q.1. What are keywords in python? Using the keyword library, print all the python keywords.**\n",
    "\n",
    "*Answer: Keywords in Python are reserved words that have special meanings and purposes within the language. These words are used to define the syntax and structure of the code and cannot be used as variable names, function names, or any other identifiers.*\n",
    "\n",
    "*In python, there are around 35 keywords.*\n",
    "\n",
    "*Some example of keywords are: for, while, print, in, if, elif, def, etc.\n",
    "To print all keywords, we first import the keyword library like this:*"
   ]
  },
  {
   "cell_type": "code",
   "execution_count": 1,
   "id": "18f69373",
   "metadata": {},
   "outputs": [
    {
     "name": "stdout",
     "output_type": "stream",
     "text": [
      "['False', 'None', 'True', 'and', 'as', 'assert', 'async', 'await', 'break', 'class', 'continue', 'def', 'del', 'elif', 'else', 'except', 'finally', 'for', 'from', 'global', 'if', 'import', 'in', 'is', 'lambda', 'nonlocal', 'not', 'or', 'pass', 'raise', 'return', 'try', 'while', 'with', 'yield']\n"
     ]
    }
   ],
   "source": [
    "import keyword\n",
    "print(keyword.kwlist)"
   ]
  },
  {
   "cell_type": "markdown",
   "id": "54f9f3a1",
   "metadata": {},
   "source": [
    "**Q.2. What are the rules to create variables in python?**\n",
    "\n",
    "*Answer: Rules to create variables in python are:*\n",
    "\n",
    "1. Variables should start with a-z, A-Z or underscore (_)\n",
    "2. Variable cannot start with digits (0-9)\n",
    "3. Variables cannot have any other special characters like $, %, -, @ etc\n",
    "4. Variables cannot be keywords like for, in, False, while, def etc.\n",
    "5. Variables are case sensitive. Example: Age and AGE are two different variables\n",
    "6. Variable name should be meaningful for better readability of the program\n",
    "\n",
    "Some variable names can be: student_name, age, city, number, etc."
   ]
  },
  {
   "cell_type": "markdown",
   "id": "e597ef2c",
   "metadata": {},
   "source": [
    "**Q.3. What are the standards and conventions followed for the nomenclature of variables in python to improve code readability and maintainability?**\n",
    "\n",
    "*Answer: Standard convention followed for the nomenclature of variables in python is:*\n",
    "1. Use Descriptive Names: Choose variable names that are descriptive and reflect the purpose of the variable. This makes the code self-documenting and easier to understand.\n",
    "2. Use Snake Case for Variable Names: Use all lowercase letters with words separated by underscores. This style is known as snake_case. For example: my_variable_name.\n",
    "3. If the variable name starts with double underscore, it's strongly private variable.\n",
    "4. If the variable name also ends with double underscore, it indicates that it is a language- defined special name"
   ]
  },
  {
   "cell_type": "markdown",
   "id": "28926122",
   "metadata": {},
   "source": [
    "**Q.4. What will happen if a keyword is used as a variable name?**\n",
    "\n",
    "*Answer: If a keyword is used as a variable name, the program will throw an syntax error. Keywords have predefined meanings and roles in the Python language, so they cannot be used for other purposes like naming variables, functions, or classes. The Python interpreter recognizes keywords and treats them as special tokens with specific meanings.*"
   ]
  },
  {
   "cell_type": "markdown",
   "id": "eca43015",
   "metadata": {},
   "source": [
    "**Q.5. For what purpose def keyword is used?**\n",
    "\n",
    "*Answer:The def keyword in Python is used to define a function.A function is a reusable block of code that performs a specific task.Function is defined by using the def keyword first, then proceding with function name.*\n",
    "\n",
    "**Example:**"
   ]
  },
  {
   "cell_type": "code",
   "execution_count": 3,
   "id": "51959178",
   "metadata": {},
   "outputs": [
    {
     "data": {
      "text/plain": [
       "4.5"
      ]
     },
     "execution_count": 3,
     "metadata": {},
     "output_type": "execute_result"
    }
   ],
   "source": [
    "def average_num():\n",
    "    num1=4\n",
    "    num2=5\n",
    "    average=(num1+num2)/2\n",
    "    return average\n",
    "\n",
    "average_num()"
   ]
  },
  {
   "cell_type": "markdown",
   "id": "7df2b082",
   "metadata": {},
   "source": [
    "**Q.6. What is the operation of this special character ‘\\’?**\n",
    "\n",
    "*Answer: The backslash \\ is a special character in Python and many other programming languages.It is used as an escape character to indicate that the character following the backslash should be treated specially.*\n",
    "\n",
    "\n",
    "**Some common uses of the backslash \\ in Python:**\n",
    "\n",
    "*Continuation of Long Lines: A backslash at the end of a line allows you to continue the line to the next one. This is useful for breaking long lines of code for better readability.*\n",
    "\n",
    "*Escape Sequences in Strings:The backslash is used to create escape sequences within strings to represent characters that are not easily printable or that have special meanings,such as newline \\n, tab \\t, backspace \\b, and more.*\n",
    "\n",
    "*Special Characters in Strings: You can use the backslash to include special characters like single quotes ' or double quotes \" within a string enclosed by the same type of quotes.*"
   ]
  },
  {
   "cell_type": "code",
   "execution_count": 1,
   "id": "45342547",
   "metadata": {},
   "outputs": [
    {
     "name": "stdout",
     "output_type": "stream",
     "text": [
      "Hello\n",
      "World\n",
      "He said, \"Hello!\"\n",
      "This is a very long string that spans multiple lines.\n"
     ]
    }
   ],
   "source": [
    "# Escape sequences\n",
    "print(\"Hello\\nWorld\")  \n",
    "\n",
    "# Special characters\n",
    "print(\"He said, \\\"Hello!\\\"\")\n",
    "\n",
    "# Continuation of lines\n",
    "long_string = \"This is a very long string that \"\\\n",
    "              \"spans multiple lines.\"\n",
    "print(long_string)"
   ]
  },
  {
   "cell_type": "markdown",
   "id": "57cd6b78",
   "metadata": {},
   "source": [
    "**Q.7. Give an example of the following conditions:\n",
    "(i) Homogeneous list\n",
    "(ii) Heterogeneous set\n",
    "(iii) Homogeneous tuple**\n",
    "\n",
    "*Answer:*\n",
    "\n",
    "*(i) list1 = [1, 2, 3, 4, 5, 6, 7, 8, 9, 10]*\n",
    "\n",
    "*(ii) set1 = {'Apple', 'Mango', 1, 3.2, True, \"India\"}*\n",
    "\n",
    "*(iii) tuple1 = (\"Abhinav\", \"Mohit\", \"Ankit\", \"Lalit\")*"
   ]
  },
  {
   "cell_type": "markdown",
   "id": "75f29f5f",
   "metadata": {},
   "source": [
    "**Q.8. Explain the mutable and immutable data types with proper explanation & examples.**\n",
    "\n",
    "*Answer:* \n",
    "\n",
    "**Mutable Data Types:** *A mutable data type is one that can be modified after it is created. In other words, you can change its value, add elements, remove elements, or modify its internal state without creating a new instance of the data type.*\n",
    "\n",
    "*Examples of mutable data types in Python include:Lists, Dictionaries and Sets*\n",
    "\n",
    "**Immutable Data Types:** *An immutable data type is one that cannot be modified after it is created. Once an immutable object is created, its value cannot be changed. If you want to modify an immutable object, you need to create a new instance with the desired changes.*\n",
    "\n",
    "*Examples of immutable data types in Python include:Strings and Tuples*"
   ]
  },
  {
   "cell_type": "code",
   "execution_count": 2,
   "id": "a93bfb76",
   "metadata": {},
   "outputs": [
    {
     "name": "stdout",
     "output_type": "stream",
     "text": [
      "[1, 2, 3]\n",
      "[1, 2, 3, 4]\n",
      "[1, 5, 3, 4]\n"
     ]
    }
   ],
   "source": [
    "# Mutable\n",
    "\n",
    "my_list = [1, 2, 3]\n",
    "print(my_list)  \n",
    "\n",
    "my_list.append(4)  # Adding a new element\n",
    "print(my_list)     \n",
    "\n",
    "my_list[1] = 5     # Modifying an element\n",
    "print(my_list)   \n",
    "\n",
    "# In this example, the list my_list is mutable, so we can modify its contents after creation.\n"
   ]
  },
  {
   "cell_type": "code",
   "execution_count": 4,
   "id": "6be84a93",
   "metadata": {},
   "outputs": [
    {
     "name": "stdout",
     "output_type": "stream",
     "text": [
      "Original Tuple: (1, 2, 3)\n",
      "Error: 'tuple' object does not support item assignment\n",
      "New Tuple: (1, 2, 3, 4)\n"
     ]
    }
   ],
   "source": [
    "# Immutable\n",
    "\n",
    "my_tuple = (1, 2, 3)\n",
    "print(\"Original Tuple:\", my_tuple)\n",
    "\n",
    "# Attempting to modify an element (results in an error)\n",
    "try:\n",
    "    my_tuple[1] = 5\n",
    "except TypeError as e:\n",
    "    print(\"Error:\", e)\n",
    "\n",
    "# Creating a new tuple by concatenating\n",
    "new_tuple = my_tuple + (4,)\n",
    "print(\"New Tuple:\", new_tuple)\n"
   ]
  },
  {
   "cell_type": "markdown",
   "id": "8df80df2",
   "metadata": {},
   "source": [
    "**Q.9.Write a code to create the given structure using only for loop.**\n",
    "\n",
    "         *\n",
    "        ***\n",
    "       *****\n",
    "      *******\n",
    "     *********\n"
   ]
  },
  {
   "cell_type": "code",
   "execution_count": 6,
   "id": "68be70d4",
   "metadata": {},
   "outputs": [
    {
     "name": "stdout",
     "output_type": "stream",
     "text": [
      "    *\n",
      "   ***\n",
      "  *****\n",
      " *******\n",
      "*********\n"
     ]
    }
   ],
   "source": [
    "n = 5  # Number of rows\n",
    "\n",
    "for i in range(n):\n",
    "    # Print spaces\n",
    "    for j in range(n - i - 1):\n",
    "        print(\" \", end=\"\")\n",
    "    \n",
    "    # Print stars\n",
    "    for k in range(2 * i + 1):\n",
    "        print(\"*\", end=\"\")\n",
    "    \n",
    "    print()  # Move to the next line\n"
   ]
  },
  {
   "cell_type": "markdown",
   "id": "3ff07df0",
   "metadata": {},
   "source": [
    "**Q.10. Write a code to create the given structure using while loop.**\n",
    "\n",
    "            |||||||||\n",
    "             |||||||\n",
    "              |||||\n",
    "               |||\n",
    "                |\n"
   ]
  },
  {
   "cell_type": "code",
   "execution_count": 10,
   "id": "d1fdfd7e",
   "metadata": {},
   "outputs": [
    {
     "name": "stdout",
     "output_type": "stream",
     "text": [
      "|||||||||\n",
      " |||||||\n",
      "  |||||\n",
      "   |||\n",
      "    |\n"
     ]
    }
   ],
   "source": [
    "n = 5  # Number of rows\n",
    "i = n - 1  # Current row number\n",
    "\n",
    "while i >= 0:\n",
    "    # Print spaces\n",
    "    j = 0\n",
    "    while j < n - i - 1:\n",
    "        print(\" \", end=\"\")\n",
    "        j += 1\n",
    "    \n",
    "    # Print vertical bars\n",
    "    k = 0\n",
    "    while k < 2 * i + 1:\n",
    "        print(\"|\", end=\"\")\n",
    "        k += 1\n",
    "    \n",
    "    print()  # Move to the next line\n",
    "    i -= 1\n"
   ]
  },
  {
   "cell_type": "code",
   "execution_count": null,
   "id": "c3fa9ed5",
   "metadata": {},
   "outputs": [],
   "source": []
  }
 ],
 "metadata": {
  "kernelspec": {
   "display_name": "Python 3 (ipykernel)",
   "language": "python",
   "name": "python3"
  },
  "language_info": {
   "codemirror_mode": {
    "name": "ipython",
    "version": 3
   },
   "file_extension": ".py",
   "mimetype": "text/x-python",
   "name": "python",
   "nbconvert_exporter": "python",
   "pygments_lexer": "ipython3",
   "version": "3.10.9"
  }
 },
 "nbformat": 4,
 "nbformat_minor": 5
}
