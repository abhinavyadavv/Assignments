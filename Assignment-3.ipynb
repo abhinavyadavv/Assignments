{
 "cells": [
  {
   "cell_type": "markdown",
   "id": "8e55ed00",
   "metadata": {},
   "source": [
    "**1.Why are functions advantageous to have in your programs?**\n",
    "\n",
    "*Answer: Functions are advantageous in programming due to their ability to enhance modularity and reusability.*\n",
    "\n",
    "*Functions break down the program into smaller chunks of code, making it more manageable and easier to understand.This modular approach allows for better abstraction, as functions can be used without requiring an in-depth understanding of their internal workings.*\n",
    "\n",
    "**Example:**"
   ]
  },
  {
   "cell_type": "code",
   "execution_count": 3,
   "id": "d911c525",
   "metadata": {},
   "outputs": [
    {
     "name": "stdout",
     "output_type": "stream",
     "text": [
      "Sum of 1 and 2 is: 3\n",
      "Sum of 2 and 3 is: 5\n",
      "Sum of 3 and 4 is: 7\n",
      "Sum of 4 and 5 is: 9\n",
      "Sum of 5 and 6 is: 11\n",
      "Sum of 6 and 7 is: 13\n",
      "Sum of 7 and 8 is: 15\n",
      "Sum of 8 and 9 is: 17\n",
      "Sum of 9 and 10 is: 19\n"
     ]
    }
   ],
   "source": [
    "def add_num(num1,num2):\n",
    "    add=num1+num2\n",
    "    return add\n",
    "\n",
    "print(\"Sum of 1 and 2 is:\",add_num(1,2))\n",
    "print(\"Sum of 2 and 3 is:\",add_num(2,3))\n",
    "print(\"Sum of 3 and 4 is:\",add_num(3,4))\n",
    "print(\"Sum of 4 and 5 is:\",add_num(4,5))\n",
    "print(\"Sum of 5 and 6 is:\",add_num(5,6))\n",
    "print(\"Sum of 6 and 7 is:\",add_num(6,7))\n",
    "print(\"Sum of 7 and 8 is:\",add_num(7,8))\n",
    "print(\"Sum of 8 and 9 is:\",add_num(8,9))\n",
    "print(\"Sum of 9 and 10 is:\",add_num(9,10))"
   ]
  },
  {
   "cell_type": "markdown",
   "id": "aeb67ab0",
   "metadata": {},
   "source": [
    "**2.When does the code in a function run: when it's specified or when it's called?**\n",
    "\n",
    "*Answer:The code within a function runs when the function is called. Defining a function doesn't execute the code immediately. Instead, the code inside the function is executed only when we call the function by using its name and providing any required arguments.*\n",
    "\n",
    "**Example:**"
   ]
  },
  {
   "cell_type": "code",
   "execution_count": 4,
   "id": "00b58629",
   "metadata": {},
   "outputs": [
    {
     "name": "stdout",
     "output_type": "stream",
     "text": [
      "Sum of 1 and 2 is: 3\n"
     ]
    }
   ],
   "source": [
    "def add_num(num1,num2):  #function definition\n",
    "    add=num1+num2\n",
    "    return add\n",
    "\n",
    "print(\"Sum of 1 and 2 is:\",add_num(1,2))       #function calling"
   ]
  },
  {
   "cell_type": "markdown",
   "id": "c60642b0",
   "metadata": {},
   "source": [
    "**3.What statement creates a function?**\n",
    "\n",
    "Answer: To create a function, we use the `def` keyword, which is used to define the function. The general syntax for defining a function is as follows:\n",
    "\n",
    "def function_name(parameters):\n",
    "\n",
    "    # Function body (code to be executed)\n",
    "    # ...\n"
   ]
  },
  {
   "cell_type": "code",
   "execution_count": 19,
   "id": "5a85eb40",
   "metadata": {},
   "outputs": [
    {
     "name": "stdout",
     "output_type": "stream",
     "text": [
      "Sum of 1 and 2 is: 3\n"
     ]
    }
   ],
   "source": [
    "def add_num(num1,num2):  #function creation\n",
    "    add=num1+num2\n",
    "    return add\n",
    "\n",
    "print(\"Sum of 1 and 2 is:\",add_num(1,2))       #function calling"
   ]
  },
  {
   "cell_type": "markdown",
   "id": "d300c5b7",
   "metadata": {},
   "source": [
    "**4.What is the difference between a function and a function call?**\n",
    "\n",
    "*Answer: A function and a function call are two related concepts, but they refer to different things:*\n",
    "\n",
    "*Function:A function is a block of code that performs a specific task or set of tasks. It's like a self-contained mini-program within a larger program. Functions can take parameters, process them, and optionally return an output value.*\n",
    "\n",
    "*Function Call:A function call is an action of invoking a function that we define.It's the way we tell the program to execute the code within the function's body. When we make a function call, we provide any necessary arguments  that the function expects.The function then executes its code using those arguments and possibly returns a value.*\n",
    "\n",
    "**Example:**"
   ]
  },
  {
   "cell_type": "code",
   "execution_count": 5,
   "id": "2445bd19",
   "metadata": {},
   "outputs": [
    {
     "name": "stdout",
     "output_type": "stream",
     "text": [
      "Sum of 1 and 2 is: 3\n"
     ]
    }
   ],
   "source": [
    "def add_num(num1,num2):  #function creation\n",
    "    add=num1+num2     #purpose of this function is to add two numbers\n",
    "    return add      #this statements returns the value of variable add after calculation\n",
    " \n",
    "print(\"Sum of 1 and 2 is:\",add_num(1,2))       #function calling"
   ]
  },
  {
   "cell_type": "markdown",
   "id": "f8d14168",
   "metadata": {},
   "source": [
    "**5.How many global scopes are there in a Python program? How many local scopes?**\n",
    "\n",
    "*Answer:In a Python program, there is only one global scope, where we can access variables throughout the entire program.  Variables defined in the global scope are allowed to be used anywhere within the program.*\n",
    "\n",
    "*Meanwhile, there are multiple local scopes, each associated with a specific function, method, or other code block such as loops and conditional statements.Variables defined within these local scopes are local to that specific scope and can't be directly accessed from outside.*\n",
    "\n",
    "*This separation of global and local scopes ensures that variables within different parts of the program do not interfere with each other and helps manage variable visibility and access.*"
   ]
  },
  {
   "cell_type": "markdown",
   "id": "c0db7573",
   "metadata": {},
   "source": [
    "**6. What happens to variables in a local scope when the function call returns?**\n",
    "\n",
    "*Answer:When a function call returns in Python, the local variables in the function's scope are destroyed. This means that they are no longer accessible and their memory is reclaimed by the Python interpreter.*\n",
    "\n",
    "*In layman language we can say that, when a function call returns, the local variables are no longer valid and If we try to access a local variable after the function call returns, we will get an error.*\n",
    "\n",
    "*It is best to assume that local variables are destroyed when the function call returns. This will help us to avoid errors.*\n",
    "\n",
    "**Example:**"
   ]
  },
  {
   "cell_type": "code",
   "execution_count": 2,
   "id": "bd7e6593",
   "metadata": {},
   "outputs": [
    {
     "ename": "NameError",
     "evalue": "name 'num1' is not defined",
     "output_type": "error",
     "traceback": [
      "\u001b[1;31m---------------------------------------------------------------------------\u001b[0m",
      "\u001b[1;31mNameError\u001b[0m                                 Traceback (most recent call last)",
      "Cell \u001b[1;32mIn[2], line 7\u001b[0m\n\u001b[0;32m      4\u001b[0m     \u001b[38;5;28;01mreturn\u001b[39;00m num1\u001b[38;5;241m+\u001b[39mnum2\n\u001b[0;32m      6\u001b[0m add_num()   \u001b[38;5;66;03m#will call the function\u001b[39;00m\n\u001b[1;32m----> 7\u001b[0m \u001b[38;5;28mprint\u001b[39m(\u001b[38;5;124m\"\u001b[39m\u001b[38;5;124mNumbers are:\u001b[39m\u001b[38;5;124m\"\u001b[39m,\u001b[43mnum1\u001b[49m,\u001b[38;5;124m\"\u001b[39m\u001b[38;5;124mand\u001b[39m\u001b[38;5;124m\"\u001b[39m,num2)\n",
      "\u001b[1;31mNameError\u001b[0m: name 'num1' is not defined"
     ]
    }
   ],
   "source": [
    "def add_num():\n",
    "    num1=4\n",
    "    num2=7\n",
    "    return num1+num2\n",
    "\n",
    "add_num()   #will call the function\n",
    "print(\"Numbers are:\",num1,\"and\",num2)    #throws error because variable num1 and num2 are defined in local scope"
   ]
  },
  {
   "cell_type": "markdown",
   "id": "02f1a122",
   "metadata": {},
   "source": [
    "**7.What is the concept of a return value? Is it possible to have a return value in an expression?**\n",
    "\n",
    "*Answer: A return value is the value that a function returns to us when the function finishes executing.*\n",
    "\n",
    "*It can be any Python object, including numbers, strings, lists, dictionaries, and functions.*\n",
    "\n",
    "*Yes, it is possible to have a return value in an expression. return statement can return an expression or variable after performing the task*\n",
    "\n",
    "**Example:**"
   ]
  },
  {
   "cell_type": "code",
   "execution_count": 1,
   "id": "a98a331c",
   "metadata": {},
   "outputs": [
    {
     "data": {
      "text/plain": [
       "11"
      ]
     },
     "execution_count": 1,
     "metadata": {},
     "output_type": "execute_result"
    }
   ],
   "source": [
    "def add_num(num1,num2):\n",
    "    return num1+num2\n",
    "\n",
    "add_num(5,6)"
   ]
  },
  {
   "cell_type": "markdown",
   "id": "4d7d1ef0",
   "metadata": {},
   "source": [
    "**8.If a function does not have a return statement, what is the return value of a call to that function?**\n",
    "\n",
    "*Answer: If a function in Python does not have a return statement, it will implicitly return `None` when the function is called.*\n",
    "\n",
    "*In other words, the absence of a return statement in a function indicates that the function doesn't produce a value to be returned.*\n",
    "\n",
    "**Example:**"
   ]
  },
  {
   "cell_type": "code",
   "execution_count": 6,
   "id": "3375397c",
   "metadata": {},
   "outputs": [
    {
     "name": "stdout",
     "output_type": "stream",
     "text": [
      "This function does not have a return statement.\n",
      "Result: None\n"
     ]
    }
   ],
   "source": [
    "def no_return_function():\n",
    "    print(\"This function does not have a return statement.\")\n",
    "\n",
    "result = no_return_function()\n",
    "print(\"Result:\", result)\n"
   ]
  },
  {
   "cell_type": "markdown",
   "id": "48156f98",
   "metadata": {},
   "source": [
    "**9.How do you make a function variable refer to the global variable?**\n",
    "\n",
    "*Answer:We can access a global variable within a function by using the global keyword to indicate that the variable we're using in the function is a global variable, rather than creating a new local variable with the same name. This allows us to modify the global variable from within the function.*"
   ]
  },
  {
   "cell_type": "code",
   "execution_count": 7,
   "id": "9d9f39d4",
   "metadata": {},
   "outputs": [
    {
     "name": "stdout",
     "output_type": "stream",
     "text": [
      "Global variable after modification: 52\n"
     ]
    }
   ],
   "source": [
    "global_var = 42\n",
    "\n",
    "def modify_global_var():\n",
    "    global global_var  # Declare the intention to use the global variable\n",
    "    global_var += 10   # Modify the global variable\n",
    "\n",
    "modify_global_var()\n",
    "\n",
    "print(\"Global variable after modification:\", global_var)\n"
   ]
  },
  {
   "cell_type": "markdown",
   "id": "e55bfd18",
   "metadata": {},
   "source": [
    "**10. What is the data type of None?**\n",
    "\n",
    "*Answer: The data type of `None` is `NoneType`.*\n",
    "\n",
    "*NoneType is a special data type in Python that represents nothingness.*\n",
    "\n",
    "*It is not the same as 0, False, or an empty string.*"
   ]
  },
  {
   "cell_type": "markdown",
   "id": "a21d52b6",
   "metadata": {},
   "source": [
    "**11.What does the sentence import areallyourpetsnamederic do?**\n",
    "\n",
    "*Answer: The sentence `import areallyourpetsnamederic` does not do anything in Python.The import statement is used to import modules into the current namespace. A module is a file that contains Python code.*\n",
    "\n",
    "*The areallyourpetsnamederic module does not exist, so the import statement will fail. The interpreter will raise an error message that says \"Module 'areallyourpetsnamederic' not found.\"*\n",
    "\n",
    "*And If by any chance there is a module named areallyourpetsnamederic, the import areallyourpetsnamederic statement will import the module into the current namespace.*\n"
   ]
  },
  {
   "cell_type": "markdown",
   "id": "766b7837",
   "metadata": {},
   "source": [
    "**12.If you had a bacon() feature in a spam module, what would you call it after importing spam?**\n",
    "\n",
    "*Answer: If we have a `bacon()` function within a module named `spam`, after importing the `spam` module, we would call the `bacon()` function using the following syntax:*\n",
    "\n",
    "**import spam**\n",
    "\n",
    "**spam.bacon()**\n",
    "\n",
    "\n",
    "*In the above example, `spam` is the name of the module we've imported, and `bacon()` is the function within that module. By prefixing the function name with the module name and a dot (`spam.`), we are specifying that we want to call the `bacon()` function from the `spam` module.*"
   ]
  },
  {
   "cell_type": "markdown",
   "id": "f87a1888",
   "metadata": {},
   "source": [
    "**13.What can you do to save a programme from crashing if it encounters an error?**\n",
    "\n",
    "*Answer:To prevent a program from crashing when it encounters an error, we can use error handling techniques to handle exceptions that might occur during the execution of your code.*\n",
    "\n",
    "*Python provides a way to identify and manage exceptions using `try` and `except` blocks.*\n",
    "\n",
    "**Example:**"
   ]
  },
  {
   "cell_type": "code",
   "execution_count": 8,
   "id": "1783c48c",
   "metadata": {},
   "outputs": [
    {
     "name": "stdout",
     "output_type": "stream",
     "text": [
      "Error: Division by zero occurred.\n"
     ]
    }
   ],
   "source": [
    "try:\n",
    "    # Code that might cause an error\n",
    "    result = 10 / 0  # This will raise a ZeroDivisionError\n",
    "except ZeroDivisionError:\n",
    "    # Code to handle the specific error\n",
    "    print(\"Error: Division by zero occurred.\")\n"
   ]
  },
  {
   "cell_type": "markdown",
   "id": "d1b63ed4",
   "metadata": {},
   "source": [
    "**14.What is the purpose of the try clause? What is the purpose of the except clause?**\n",
    "\n",
    "*Answer:The `try` and `except` clauses in Python are used to implement an error-handling mechanism.*\n",
    "\n",
    "**Purpose of the try Clause:** *In try clause we generally put the block of code that might raise an exception.*\n",
    "\n",
    "*The purpose of the try clause is to create a protected section where we can execute code that can cause errors.*\n",
    "\n",
    "*If an exception occurs within the try block,the program does not immediately terminate.Instead,it jumps to the appropriate except block to handle the exception.*\n",
    "\n",
    "**Purpose of the except Clause:** *The except clause runs when a specific exception occurs within the associated try block.*\n",
    "\n",
    "*It allows us to define how your program should react when a particular type of exception occurs.*\n",
    "\n",
    "*We can have multiple except blocks to handle different types of exceptions that might arise.*"
   ]
  },
  {
   "cell_type": "code",
   "execution_count": 18,
   "id": "71583819",
   "metadata": {},
   "outputs": [
    {
     "name": "stdout",
     "output_type": "stream",
     "text": [
      "You have divided the number by zero!\n"
     ]
    }
   ],
   "source": [
    "try:         #operations that can cause error is written in try clause\n",
    "    n=5\n",
    "    d=0\n",
    "    result=n/d\n",
    "except ZeroDivisionError:        #this is the exception that will be raised if error occurs\n",
    "    print(\"You have divided the number by zero!\")\n",
    "else:          #prints the result if there is no error\n",
    "    print(result)"
   ]
  }
 ],
 "metadata": {
  "kernelspec": {
   "display_name": "Python 3 (ipykernel)",
   "language": "python",
   "name": "python3"
  },
  "language_info": {
   "codemirror_mode": {
    "name": "ipython",
    "version": 3
   },
   "file_extension": ".py",
   "mimetype": "text/x-python",
   "name": "python",
   "nbconvert_exporter": "python",
   "pygments_lexer": "ipython3",
   "version": "3.10.9"
  }
 },
 "nbformat": 4,
 "nbformat_minor": 5
}
